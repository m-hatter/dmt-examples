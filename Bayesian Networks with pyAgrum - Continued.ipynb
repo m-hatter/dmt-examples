{
 "cells": [
  {
   "cell_type": "markdown",
   "metadata": {},
   "source": [
    "Блокнот является развитием блокнота Bayesian Networks with pyAgrum (сначала лучше ознакомиться с ним) и рассматривает усложненную задачу из области медицины, в которой помимо наблюдаемых симптомов можно совершать еще и диагностические действия, направленные на получение дополнительной информации о состоянии пациента, а также выбирать вид терапии.\n",
    "\n",
    "Условие модицифированной задачи следующее:\n",
    "\n",
    "Пациент может быть здоров, либо у него может быть наблюдаться одно из взаимоисключающих заболеваний - З1 или З2, априорные вероятности которых $0.01$ и $0.006$ соответственно. Оба заболевания могут вызывать симтомы С1 и С2. Вероятности появления симптома С1 приведены в таблице:\n",
    "\n",
    "| Болезнь |  Вероятность  |\n",
    "|---------|---------------|\n",
    "|  Нет    |  0.05         |\n",
    "|  З1     |  0.9          |\n",
    "|  З2     |  0.4          |\n",
    "\n",
    "Вероятности появления симптома С2 приведены в таблице:\n",
    "\n",
    "| Болезнь |  Вероятность  |\n",
    "|---------|---------------|\n",
    "|  Нет    |  0.05         |\n",
    "|  З1     |  0.3          |\n",
    "|  З2     |  0.8          |\n",
    "\n",
    "Существует также диагностическая процедура (тест), которая позволяет выявить заболевание З2 (как это обычно бывает, с некоторой точностью) - если у пациента действительно присутствует заболевание З2, то результат процедуры оказывается положительным в $95\\%$ случаев, однако он также оказывается положительным в $3\\%$ случаев, когда у пациента нет З2. Стоимость теста - 1200 руб.\n",
    "\n",
    "Кроме того, для данной группы заболеваний существует два (взаимоисключающих) вида терапии - Т1 и Т2 (стоимостью 2500 руб. и 3000 руб. соответственно). Первая оказывается эффективна для лечения З1, вторая - для З2. Известны также значения стоимости каждого из видов терапии и эффективности, отражающей субъективные неудобства от каждого возможного развития событий:\n",
    "\n",
    "| Болезнь | Терапия  |  Эффект  |\n",
    "|---------|----------|----------|\n",
    "|  Нет    |  Нет     |     0    |\n",
    "|  Нет    |  Т1      |   -20    |   \n",
    "|  Нет    |  Т2      |   -25    |\n",
    "|  З1     |  Нет     |   -100   |\n",
    "|  З1     |  T1      |   -50    |\n",
    "|  З1     |  T2      |   -125   |\n",
    "|  З2     |  Нет     |   -110   |\n",
    "|  З2     |  T1      |   -130   |\n",
    "|  З2     |  T2      |   -45    |\n",
    "\n",
    "Для описания данной задачи воспользуемся возможностями библиотеки pyAgrum. Построим модель (байесовскую сеть), а потом ответим с ее помощью на несколько вопросов, касающихся выбора оптимальной стратегии для различных ситуаций.\n",
    "\n",
    "Примечание! Вообще-то pyAgrum поддерживает возможность создания диаграмм влияния, но в текущих версиях вывод на них работает не совсем корректно. Учитывая, что диаграммы влияния являются расширением байесовских сетей, в данном блокноте мы будем использовать байесовские сети для вычисления вероятностей сложных событий, а часть, связанную с определением (ожидаемых) полезностей и оптимальных управлений будем осуществлять вручную.\n"
   ]
  },
  {
   "cell_type": "code",
   "execution_count": 1,
   "metadata": {},
   "outputs": [],
   "source": [
    "import os\n",
    "\n",
    "%matplotlib inline\n",
    "from pylab import *\n",
    "import matplotlib.pyplot as plt"
   ]
  },
  {
   "cell_type": "code",
   "execution_count": 2,
   "metadata": {},
   "outputs": [],
   "source": [
    "import pyAgrum as gum\n",
    "import pyAgrum.lib.notebook as gnb"
   ]
  },
  {
   "cell_type": "markdown",
   "metadata": {},
   "source": [
    "# Создание байесовской сети\n",
    "\n",
    "Если строить данную задачу как диаграмму влияния, но следовало бы внести две вершины принятия решения (проводить тест или нет) и несколько (возможны варианты) вершин полезности. Как указывалось выше, в этом блокноте мы моделируем только вероятностный вывод, оставляя всю обработку, связанную с принятием решений и за рамками самой сети (весь соответствующий анализ будет проводиться программным кодом, внешним по отношению к сети).\n",
    "\n",
    "Таким образом, вершинами байесовской сети должны стать переменные, описывающие диагностическую ситуацию. Общая схема сети будет включать вершину, связанную с наличием у пациента болезни (значение этой вершины не будет наблюдаемым, мы будем лишь строить распределение вероятностей значения соответствущей переменной в зависимости от имеющейся информации), а также вершины, связанные с доступной врачу диагностической информацией: симптом С1, симптом С2 и результат теста (Д). Следует отметить, что формально результат теста не всегда доступен, однако факт его доступности или недоступности будет обрабатываться внешним кодом.\n"
   ]
  },
  {
   "cell_type": "code",
   "execution_count": 3,
   "metadata": {},
   "outputs": [
    {
     "name": "stdout",
     "output_type": "stream",
     "text": [
      "BN{nodes: 0, arcs: 0, domainSize: 1, dim: 0}\n"
     ]
    }
   ],
   "source": [
    "medicine_bn = gum.BayesNet()\n",
    "print(medicine_bn)"
   ]
  },
  {
   "cell_type": "markdown",
   "metadata": {},
   "source": [
    "## Переменные (и вероятностные узлы)\n",
    "\n",
    "pyAgrum поддерживает несколько видов переменных. Для данной задачи проще всего использовать, так называемые, `LabelizedVariable`, то есть переменные, которые могут принимать одно из фиксированного набора значений, каждое из которых имеет свою метку. Например, переменная Disease (Болезнь) может принимать одно из трех значений 'Нет', 'З1' и 'З2'.\n"
   ]
  },
  {
   "cell_type": "code",
   "execution_count": 4,
   "metadata": {},
   "outputs": [
    {
     "data": {
      "text/plain": [
       "(gum::LabelizedVariable@0x203c9f5b0d0) Disease<No,Disease1,Disease2>"
      ]
     },
     "execution_count": 4,
     "metadata": {},
     "output_type": "execute_result"
    }
   ],
   "source": [
    "# Создадим переменную \n",
    "# Первый параметр - имя переменной, второй - опциональный комментарий, а третий - количство значений\n",
    "va = gum.LabelizedVariable('Disease', 'Is the patient sick?', 3)\n",
    "va.changeLabel(0, 'No')\n",
    "va.changeLabel(1, 'Disease1')\n",
    "va.changeLabel(2, 'Disease2')\n",
    "va"
   ]
  },
  {
   "cell_type": "code",
   "execution_count": 5,
   "metadata": {},
   "outputs": [
    {
     "data": {
      "text/plain": [
       "0"
      ]
     },
     "execution_count": 5,
     "metadata": {},
     "output_type": "execute_result"
    }
   ],
   "source": [
    "medicine_bn.add(va)"
   ]
  },
  {
   "cell_type": "markdown",
   "metadata": {},
   "source": [
    "Аналогично создадим и другие переменные:"
   ]
  },
  {
   "cell_type": "code",
   "execution_count": 6,
   "metadata": {},
   "outputs": [
    {
     "data": {
      "text/plain": [
       "3"
      ]
     },
     "execution_count": 6,
     "metadata": {},
     "output_type": "execute_result"
    }
   ],
   "source": [
    "# Симптом 1\n",
    "medicine_bn.add(gum.LabelizedVariable('Symptom1', 'Does the patient have the symptom 1?', 2))\n",
    "# Симптом 2\n",
    "medicine_bn.add(gum.LabelizedVariable('Symptom2', 'Does the patient have the symptom 2?', 2))\n",
    "# Тест\n",
    "medicine_bn.add(gum.LabelizedVariable('Test', 'Diagnostic test result', 2))\n"
   ]
  },
  {
   "cell_type": "markdown",
   "metadata": {},
   "source": [
    "## Дуги\n",
    "\n",
    "Необходимо связать узлы, соответствующие созданным переменным в струкуру, отражающую их взаимосвязь:"
   ]
  },
  {
   "cell_type": "code",
   "execution_count": 7,
   "metadata": {},
   "outputs": [],
   "source": [
    "# Наличие болезни влияет на проявление симптомов и на результат диагностики:\n",
    "medicine_bn.addArc(medicine_bn.idFromName('Disease'), medicine_bn.idFromName('Symptom1'))\n",
    "medicine_bn.addArc(medicine_bn.idFromName('Disease'), medicine_bn.idFromName('Symptom2'))\n",
    "medicine_bn.addArc(medicine_bn.idFromName('Disease'), medicine_bn.idFromName('Test'))"
   ]
  },
  {
   "cell_type": "code",
   "execution_count": 8,
   "metadata": {},
   "outputs": [
    {
     "data": {
      "text/html": [
       "<svg height=\"116pt\" viewBox=\"0.00 0.00 301.39 116.00\" width=\"301pt\" xmlns=\"http://www.w3.org/2000/svg\" xmlns:xlink=\"http://www.w3.org/1999/xlink\">\n",
       "<g class=\"graph\" id=\"graph0\" transform=\"scale(1 1) rotate(0) translate(4 112)\">\n",
       "<title>G</title>\n",
       "<!-- Symptom1 -->\n",
       "<g class=\"node\" id=\"node1\">\n",
       "<title>Symptom1</title>\n",
       "<g id=\"a_node1\"><a xlink:title=\"(1) Symptom1\">\n",
       "<ellipse cx=\"50.7\" cy=\"-18\" fill=\"#404040\" rx=\"50.89\" ry=\"18\" stroke=\"black\"/>\n",
       "<text fill=\"white\" font-family=\"Times New Roman,serif\" font-size=\"14.00\" text-anchor=\"middle\" x=\"50.7\" y=\"-14.3\">Symptom1</text>\n",
       "</a>\n",
       "</g>\n",
       "</g>\n",
       "<!-- Test -->\n",
       "<g class=\"node\" id=\"node2\">\n",
       "<title>Test</title>\n",
       "<g id=\"a_node2\"><a xlink:title=\"(3) Test\">\n",
       "<ellipse cx=\"146.7\" cy=\"-18\" fill=\"#404040\" rx=\"27\" ry=\"18\" stroke=\"black\"/>\n",
       "<text fill=\"white\" font-family=\"Times New Roman,serif\" font-size=\"14.00\" text-anchor=\"middle\" x=\"146.7\" y=\"-14.3\">Test</text>\n",
       "</a>\n",
       "</g>\n",
       "</g>\n",
       "<!-- Symptom2 -->\n",
       "<g class=\"node\" id=\"node3\">\n",
       "<title>Symptom2</title>\n",
       "<g id=\"a_node3\"><a xlink:title=\"(2) Symptom2\">\n",
       "<ellipse cx=\"242.7\" cy=\"-18\" fill=\"#404040\" rx=\"50.89\" ry=\"18\" stroke=\"black\"/>\n",
       "<text fill=\"white\" font-family=\"Times New Roman,serif\" font-size=\"14.00\" text-anchor=\"middle\" x=\"242.7\" y=\"-14.3\">Symptom2</text>\n",
       "</a>\n",
       "</g>\n",
       "</g>\n",
       "<!-- Disease -->\n",
       "<g class=\"node\" id=\"node4\">\n",
       "<title>Disease</title>\n",
       "<g id=\"a_node4\"><a xlink:title=\"(0) Disease\">\n",
       "<ellipse cx=\"146.7\" cy=\"-90\" fill=\"#404040\" rx=\"38.19\" ry=\"18\" stroke=\"black\"/>\n",
       "<text fill=\"white\" font-family=\"Times New Roman,serif\" font-size=\"14.00\" text-anchor=\"middle\" x=\"146.7\" y=\"-86.3\">Disease</text>\n",
       "</a>\n",
       "</g>\n",
       "</g>\n",
       "<!-- Disease&#45;&gt;Symptom1 -->\n",
       "<g class=\"edge\" id=\"edge1\">\n",
       "<title>Disease-&gt;Symptom1</title>\n",
       "<g id=\"a_edge1\"><a xlink:title=\"(0, 1) : \">\n",
       "<path d=\"M126.8,-74.5C113.4,-64.72 95.48,-51.65 80.39,-40.65\" fill=\"none\" stroke=\"#4a4a4a\"/>\n",
       "<polygon fill=\"#4a4a4a\" points=\"82.04,-37.52 71.89,-34.46 77.91,-43.18 82.04,-37.52\" stroke=\"#4a4a4a\"/>\n",
       "</a>\n",
       "</g>\n",
       "</g>\n",
       "<!-- Disease&#45;&gt;Test -->\n",
       "<g class=\"edge\" id=\"edge2\">\n",
       "<title>Disease-&gt;Test</title>\n",
       "<g id=\"a_edge2\"><a xlink:title=\"(0, 3) : \">\n",
       "<path d=\"M146.7,-71.7C146.7,-63.98 146.7,-54.71 146.7,-46.11\" fill=\"none\" stroke=\"#4a4a4a\"/>\n",
       "<polygon fill=\"#4a4a4a\" points=\"150.2,-46.1 146.7,-36.1 143.2,-46.1 150.2,-46.1\" stroke=\"#4a4a4a\"/>\n",
       "</a>\n",
       "</g>\n",
       "</g>\n",
       "<!-- Disease&#45;&gt;Symptom2 -->\n",
       "<g class=\"edge\" id=\"edge3\">\n",
       "<title>Disease-&gt;Symptom2</title>\n",
       "<g id=\"a_edge3\"><a xlink:title=\"(0, 2) : \">\n",
       "<path d=\"M166.59,-74.5C179.99,-64.72 197.91,-51.65 213,-40.65\" fill=\"none\" stroke=\"#4a4a4a\"/>\n",
       "<polygon fill=\"#4a4a4a\" points=\"215.48,-43.18 221.5,-34.46 211.36,-37.52 215.48,-43.18\" stroke=\"#4a4a4a\"/>\n",
       "</a>\n",
       "</g>\n",
       "</g>\n",
       "</g>\n",
       "</svg>"
      ],
      "text/plain": [
       "(gum::BayesNet<double>@0x203c9f5a800) BN{nodes: 4, arcs: 3, domainSize: 24, dim: 21}"
      ]
     },
     "execution_count": 8,
     "metadata": {},
     "output_type": "execute_result"
    }
   ],
   "source": [
    "medicine_bn"
   ]
  },
  {
   "cell_type": "markdown",
   "metadata": {},
   "source": [
    "## Таблицы условных вероятностей\n"
   ]
  },
  {
   "cell_type": "code",
   "execution_count": 9,
   "metadata": {},
   "outputs": [
    {
     "data": {
      "text/html": [
       "<table style=\"border:1px solid black;\">\n",
       "<tr style='border:1px solid black;color:black;background-color:#808080'><th colspan='3'><center>Disease</center></th></tr>\n",
       "<tr><th style='border:1px solid black;border-bottom-style: double;color:black;background-color:#BBBBBB'><center>No</center></th><th style='border:1px solid black;border-bottom-style: double;color:black;background-color:#BBBBBB'><center>Disease1</center></th><th style='border:1px solid black;border-bottom-style: double;color:black;background-color:#BBBBBB'><center>Disease2</center></th></tr>\n",
       "<tr><td style='color:black;background-color:#81fc64;text-align:right;'>0.9840</td><td style='color:black;background-color:#fd8064;text-align:right;'>0.0100</td><td style='color:black;background-color:#fe7f64;text-align:right;'>0.0060</td></tr>\n",
       "</table>"
      ],
      "text/plain": [
       "(gum::Potential<double>@0x203c9f5b840) \n",
       "  Disease                    |\n",
       "No       |Disease1 |Disease2 |\n",
       "---------|---------|---------|\n",
       " 0.9840  | 0.0100  | 0.0060  |"
      ]
     },
     "execution_count": 9,
     "metadata": {},
     "output_type": "execute_result"
    }
   ],
   "source": [
    "medicine_bn.cpt(medicine_bn.idFromName('Disease')).fillWith([1-0.01-0.006, 0.01, 0.006])\n",
    "medicine_bn.cpt(medicine_bn.idFromName('Disease'))"
   ]
  },
  {
   "cell_type": "markdown",
   "metadata": {},
   "source": [
    "Несколько более сложный случай - задание условных вероятностей для вершин, у которых есть входящие дуги (таблицы таких вершин, очевидно, включают все возможные значения переменных, от которых они зависят). Для правильной установки нужно понимать порядок, в котором упомянуты переменные в таблице:"
   ]
  },
  {
   "cell_type": "code",
   "execution_count": 10,
   "metadata": {},
   "outputs": [
    {
     "data": {
      "text/plain": [
       "['Disease', 'Symptom1']"
      ]
     },
     "execution_count": 10,
     "metadata": {},
     "output_type": "execute_result"
    }
   ],
   "source": [
    "medicine_bn.cpt(medicine_bn.idFromName('Symptom1')).var_names"
   ]
  },
  {
   "cell_type": "markdown",
   "metadata": {},
   "source": [
    "Соответственно, таблица выглядит так (переменная Disease - первая):\n",
    "\n",
    "| Disease   | Symptom1 | p    |\n",
    "|-----------|----------|------|\n",
    "|  No       |    0     | 0.95  |\n",
    "|  No       |    1     | 0.05  |\n",
    "|  Disease1 |    0     | 0.1  |\n",
    "|  Disease1 |    1     | 0.9  |\n",
    "|  Disease2 |    0     | 0.6  |\n",
    "|  Disease2 |    1     | 0.4  |\n",
    "\n",
    "(в исходных данных есть только вероятности проявления симптома, вероятности его непроявления вычисляются как дополнение до 1)"
   ]
  },
  {
   "cell_type": "code",
   "execution_count": 11,
   "metadata": {},
   "outputs": [
    {
     "data": {
      "text/html": [
       "<table style=\"border:1px solid black;\">\n",
       "<tr><th colspan='1'></th><th colspan='2' style='border:1px solid black;color:black;background-color:#808080;'><center>Symptom1</center></th></tr>\n",
       "<tr><th style='border:1px solid black;color:black;background-color:#808080'><center>Disease</center></th><th style='border:1px solid black;border-bottom-style: double;color:black;background-color:#BBBBBB'><center>0</center></th><th style='border:1px solid black;border-bottom-style: double;color:black;background-color:#BBBBBB'><center>1</center></th></tr>\n",
       "<tr><th style='border:1px solid black;color:black;background-color:#BBBBBB'><center>No</center></th><td style='color:black;background-color:#85f864;text-align:right;'>0.9500</td><td style='color:black;background-color:#f88564;text-align:right;'>0.0500</td></tr>\n",
       "<tr><th style='border:1px solid black;color:black;background-color:#BBBBBB'><center>Disease1</center></th><td style='color:black;background-color:#f28b64;text-align:right;'>0.1000</td><td style='color:black;background-color:#8bf264;text-align:right;'>0.9000</td></tr>\n",
       "<tr><th style='border:1px solid black;color:black;background-color:#BBBBBB'><center>Disease2</center></th><td style='color:black;background-color:#b2cb64;text-align:right;'>0.6000</td><td style='color:black;background-color:#cbb264;text-align:right;'>0.4000</td></tr>\n",
       "</table>"
      ],
      "text/plain": [
       "(gum::Potential<double>@0x203c9f5d5b0) \n",
       "      ||  Symptom1         |\n",
       "Diseas||0        |1        |\n",
       "------||---------|---------|\n",
       "No    || 0.9500  | 0.0500  |\n",
       "Diseas|| 0.1000  | 0.9000  |\n",
       "Diseas|| 0.6000  | 0.4000  |"
      ]
     },
     "execution_count": 11,
     "metadata": {},
     "output_type": "execute_result"
    }
   ],
   "source": [
    "medicine_bn.cpt(medicine_bn.idFromName('Symptom1')).fillWith([0.95, 0.05, 0.1, 0.9, 0.6, 0.4])"
   ]
  },
  {
   "cell_type": "markdown",
   "metadata": {},
   "source": [
    "Это же можно делать и с помощью словарей (пожалуй, наиболее читаемый способ):"
   ]
  },
  {
   "cell_type": "code",
   "execution_count": 12,
   "metadata": {},
   "outputs": [
    {
     "data": {
      "text/html": [
       "<table style=\"border:1px solid black;\">\n",
       "<tr><th colspan='1'></th><th colspan='2' style='border:1px solid black;color:black;background-color:#808080;'><center>Symptom2</center></th></tr>\n",
       "<tr><th style='border:1px solid black;color:black;background-color:#808080'><center>Disease</center></th><th style='border:1px solid black;border-bottom-style: double;color:black;background-color:#BBBBBB'><center>0</center></th><th style='border:1px solid black;border-bottom-style: double;color:black;background-color:#BBBBBB'><center>1</center></th></tr>\n",
       "<tr><th style='border:1px solid black;color:black;background-color:#BBBBBB'><center>No</center></th><td style='color:black;background-color:#85f864;text-align:right;'>0.9500</td><td style='color:black;background-color:#f88564;text-align:right;'>0.0500</td></tr>\n",
       "<tr><th style='border:1px solid black;color:black;background-color:#BBBBBB'><center>Disease1</center></th><td style='color:black;background-color:#a5d864;text-align:right;'>0.7000</td><td style='color:black;background-color:#d8a564;text-align:right;'>0.3000</td></tr>\n",
       "<tr><th style='border:1px solid black;color:black;background-color:#BBBBBB'><center>Disease2</center></th><td style='color:black;background-color:#e59864;text-align:right;'>0.2000</td><td style='color:black;background-color:#98e564;text-align:right;'>0.8000</td></tr>\n",
       "</table>"
      ],
      "text/plain": [
       "(gum::Potential<double>@0x203c9f5db40) \n",
       "      ||  Symptom2         |\n",
       "Diseas||0        |1        |\n",
       "------||---------|---------|\n",
       "No    || 0.9500  | 0.0500  |\n",
       "Diseas|| 0.7000  | 0.3000  |\n",
       "Diseas|| 0.2000  | 0.8000  |"
      ]
     },
     "execution_count": 12,
     "metadata": {},
     "output_type": "execute_result"
    }
   ],
   "source": [
    "symptom2 = medicine_bn.idFromName('Symptom2')\n",
    "\n",
    "medicine_bn.cpt(symptom2)[{'Disease': 'No'}] = [0.95, 0.05]   # два значения: для Symptom2=0 и Symptom2=1 соответственно\n",
    "medicine_bn.cpt(symptom2)[{'Disease': 'Disease1'}] = [0.7, 0.3]\n",
    "medicine_bn.cpt(symptom2)[{'Disease': 'Disease2'}] = [0.2, 0.8]\n",
    "\n",
    "medicine_bn.cpt(symptom2)"
   ]
  },
  {
   "cell_type": "markdown",
   "metadata": {},
   "source": [
    "Аналогично для результата диагностики. Сама переменная \"результат диагностики\" (Test) может принимать два значения: отрицательный (заболевание не выявлено, кодируется 0) и положительный (заболевание выявлено, кодируется 1). В соответствии с условием, у теста есть и ложные срабатывания, то есть вероятность того, что тест покажет положительный результат при отсутствии заболевания З2 не равна 0. Поскольку тест чувствителен только к заболеванию З2, вероятностные характеристики для отсутствия заболевания и для заболевания З1 одинаковы:\n",
    "\n",
    "Существует также диагностическая процедура (тест), которая позволяет выявить заболевание З2 (как это обычно бывает, с некоторой точностью) - если у пациента действительно присутствует заболевание З2, то результат процедуры оказывается положительным в $95\\%$ случаев, однако он также оказывается положительным в $3\\%$ случаев, когда у пациента нет З2. Стоимость теста - 1200 руб."
   ]
  },
  {
   "cell_type": "code",
   "execution_count": 13,
   "metadata": {},
   "outputs": [
    {
     "data": {
      "text/html": [
       "<table style=\"border:1px solid black;\">\n",
       "<tr><th colspan='1'></th><th colspan='2' style='border:1px solid black;color:black;background-color:#808080;'><center>Test</center></th></tr>\n",
       "<tr><th style='border:1px solid black;color:black;background-color:#808080'><center>Disease</center></th><th style='border:1px solid black;border-bottom-style: double;color:black;background-color:#BBBBBB'><center>0</center></th><th style='border:1px solid black;border-bottom-style: double;color:black;background-color:#BBBBBB'><center>1</center></th></tr>\n",
       "<tr><th style='border:1px solid black;color:black;background-color:#BBBBBB'><center>No</center></th><td style='color:black;background-color:#82fb64;text-align:right;'>0.9700</td><td style='color:black;background-color:#fb8264;text-align:right;'>0.0300</td></tr>\n",
       "<tr><th style='border:1px solid black;color:black;background-color:#BBBBBB'><center>Disease1</center></th><td style='color:black;background-color:#82fb64;text-align:right;'>0.9700</td><td style='color:black;background-color:#fb8264;text-align:right;'>0.0300</td></tr>\n",
       "<tr><th style='border:1px solid black;color:black;background-color:#BBBBBB'><center>Disease2</center></th><td style='color:black;background-color:#f88564;text-align:right;'>0.0500</td><td style='color:black;background-color:#85f864;text-align:right;'>0.9500</td></tr>\n",
       "</table>"
      ],
      "text/plain": [
       "(gum::Potential<double>@0x203c9f5dee0) \n",
       "      ||  Test             |\n",
       "Diseas||0        |1        |\n",
       "------||---------|---------|\n",
       "No    || 0.9700  | 0.0300  |\n",
       "Diseas|| 0.9700  | 0.0300  |\n",
       "Diseas|| 0.0500  | 0.9500  |"
      ]
     },
     "execution_count": 13,
     "metadata": {},
     "output_type": "execute_result"
    }
   ],
   "source": [
    "test = medicine_bn.idFromName('Test')\n",
    "\n",
    "medicine_bn.cpt(test)[{'Disease': 'No'}] = [0.97, 0.03]   # два значения: для Test=0 (отр.) и Test=1 (пол.)\n",
    "medicine_bn.cpt(test)[{'Disease': 'Disease1'}] = [0.97, 0.03]\n",
    "medicine_bn.cpt(test)[{'Disease': 'Disease2'}] = [0.05, 0.95]\n",
    "\n",
    "medicine_bn.cpt(test)"
   ]
  },
  {
   "cell_type": "markdown",
   "metadata": {},
   "source": [
    "На этом спецификация сети завершена. Обратите внимание, что мы нигде не задали полезности исходов и \"независимую\" переменную, соответсвующую принимаемому решению (лечить или не лечить). Их просто нельзя представить с помощью формализма байесовских сетей (в отличие от диаграмм влияния). "
   ]
  },
  {
   "cell_type": "markdown",
   "metadata": {},
   "source": [
    "# Запросы\n",
    "\n",
    "Проверим работу сети с помощью нескольких запросов.\n",
    "\n",
    "Например, можно оценить вероятность заболевания при наличии тех или иных симптомов и/или результата теста:"
   ]
  },
  {
   "cell_type": "code",
   "execution_count": 14,
   "metadata": {},
   "outputs": [
    {
     "data": {
      "text/html": [
       "<table style=\"border:1px solid black;\">\n",
       "<tr style='border:1px solid black;color:black;background-color:#808080'><th colspan='3'><center>Disease</center></th></tr>\n",
       "<tr><th style='border:1px solid black;border-bottom-style: double;color:black;background-color:#BBBBBB'><center>No</center></th><th style='border:1px solid black;border-bottom-style: double;color:black;background-color:#BBBBBB'><center>Disease1</center></th><th style='border:1px solid black;border-bottom-style: double;color:black;background-color:#BBBBBB'><center>Disease2</center></th></tr>\n",
       "<tr><td style='color:black;background-color:#81fc64;text-align:right;'>0.9840</td><td style='color:black;background-color:#fd8064;text-align:right;'>0.0100</td><td style='color:black;background-color:#fe7f64;text-align:right;'>0.0060</td></tr>\n",
       "</table>"
      ],
      "text/plain": [
       "(gum::Potential<double>@0x203c9f5dde0) \n",
       "  Disease                    |\n",
       "No       |Disease1 |Disease2 |\n",
       "---------|---------|---------|\n",
       " 0.9840  | 0.0100  | 0.0060  |"
      ]
     },
     "execution_count": 14,
     "metadata": {},
     "output_type": "execute_result"
    }
   ],
   "source": [
    "# Создадим экземпляр \"машины вывода\".\n",
    "# Здесь VariableElimination - это один из распространенных алгоритмов\n",
    "# точного вывода на БС\n",
    "ie=gum.VariableElimination(medicine_bn)\n",
    "\n",
    "# Рассчет всех апостериорных вероятностей\n",
    "ie.makeInference()\n",
    "\n",
    "# Апостериорная вероятность того, что у пациента есть заболевание\n",
    "ie.posterior('Disease')"
   ]
  },
  {
   "cell_type": "markdown",
   "metadata": {},
   "source": [
    "Очевидно, в данном случае апостериорная вероятность совпадает с априорной (мы не сообщили модели никаких новых данных по сравнению с теми, на которых основывается априорная вероятность)."
   ]
  },
  {
   "cell_type": "code",
   "execution_count": 15,
   "metadata": {},
   "outputs": [
    {
     "data": {
      "text/html": [
       "<table style=\"border:1px solid black;\">\n",
       "<tr style='border:1px solid black;color:black;background-color:#808080'><th colspan='3'><center>Disease</center></th></tr>\n",
       "<tr><th style='border:1px solid black;border-bottom-style: double;color:black;background-color:#BBBBBB'><center>No</center></th><th style='border:1px solid black;border-bottom-style: double;color:black;background-color:#BBBBBB'><center>Disease1</center></th><th style='border:1px solid black;border-bottom-style: double;color:black;background-color:#BBBBBB'><center>Disease2</center></th></tr>\n",
       "<tr><td style='color:black;background-color:#97e664;text-align:right;'>0.8119</td><td style='color:black;background-color:#eb9264;text-align:right;'>0.1485</td><td style='color:black;background-color:#f98464;text-align:right;'>0.0396</td></tr>\n",
       "</table>"
      ],
      "text/plain": [
       "(gum::Potential<double>@0x203c9f5dc40) \n",
       "  Disease                    |\n",
       "No       |Disease1 |Disease2 |\n",
       "---------|---------|---------|\n",
       " 0.8119  | 0.1485  | 0.0396  |"
      ]
     },
     "execution_count": 15,
     "metadata": {},
     "output_type": "execute_result"
    }
   ],
   "source": [
    "ie.eraseAllEvidence()\n",
    "# Пусть известно, что у пациента присутствует симптом 1 (про симптом 2 ничего не известно)\n",
    "ie.setEvidence({'Symptom1': 1})\n",
    "# Апостериорная вероятность того, что у пациента есть заболевание\n",
    "ie.posterior('Disease')"
   ]
  },
  {
   "cell_type": "markdown",
   "metadata": {},
   "source": [
    "Наличие информации о наличии симптома С1 не является особенно ценным. Видимо, все дело в том, что данный симптом относительно часто встречается и без заболеваний. Что насчет второго симптома?"
   ]
  },
  {
   "cell_type": "code",
   "execution_count": 16,
   "metadata": {},
   "outputs": [
    {
     "data": {
      "text/html": [
       "<table style=\"border:1px solid black;\">\n",
       "<tr style='border:1px solid black;color:black;background-color:#808080'><th colspan='3'><center>Disease</center></th></tr>\n",
       "<tr><th style='border:1px solid black;border-bottom-style: double;color:black;background-color:#BBBBBB'><center>No</center></th><th style='border:1px solid black;border-bottom-style: double;color:black;background-color:#BBBBBB'><center>Disease1</center></th><th style='border:1px solid black;border-bottom-style: double;color:black;background-color:#BBBBBB'><center>Disease2</center></th></tr>\n",
       "<tr><td style='color:black;background-color:#90ed64;text-align:right;'>0.8632</td><td style='color:black;background-color:#f88564;text-align:right;'>0.0526</td><td style='color:black;background-color:#f48964;text-align:right;'>0.0842</td></tr>\n",
       "</table>"
      ],
      "text/plain": [
       "(gum::Potential<double>@0x203c9f5e0e0) \n",
       "  Disease                    |\n",
       "No       |Disease1 |Disease2 |\n",
       "---------|---------|---------|\n",
       " 0.8632  | 0.0526  | 0.0842  |"
      ]
     },
     "execution_count": 16,
     "metadata": {},
     "output_type": "execute_result"
    }
   ],
   "source": [
    "ie.eraseAllEvidence()\n",
    "# Пусть известно, что у пациента присутствует симптом 2 (про симптом 1 ничего не известно)\n",
    "ie.setEvidence({'Symptom2': 1})\n",
    "# Апостериорная вероятность того, что у пациента есть заболевание\n",
    "ie.posterior('Disease')"
   ]
  },
  {
   "cell_type": "markdown",
   "metadata": {},
   "source": [
    "Наличие информации о наличии симптома С2 еще менее ценно. Хотя видно, что вероятность заболевания З2 при этом чуть выше, чем заболевания З1. Впрочем, обе достаточно малы, что может быть результатом того, что заболевания достаточно редкие (априорная вероятность мала). Что если наблюдаются оба симптома?"
   ]
  },
  {
   "cell_type": "code",
   "execution_count": 17,
   "metadata": {},
   "outputs": [
    {
     "data": {
      "text/html": [
       "<table style=\"border:1px solid black;\">\n",
       "<tr style='border:1px solid black;color:black;background-color:#808080'><th colspan='3'><center>Disease</center></th></tr>\n",
       "<tr><th style='border:1px solid black;border-bottom-style: double;color:black;background-color:#BBBBBB'><center>No</center></th><th style='border:1px solid black;border-bottom-style: double;color:black;background-color:#BBBBBB'><center>Disease1</center></th><th style='border:1px solid black;border-bottom-style: double;color:black;background-color:#BBBBBB'><center>Disease2</center></th></tr>\n",
       "<tr><td style='color:black;background-color:#d2ab64;text-align:right;'>0.3475</td><td style='color:black;background-color:#ceaf64;text-align:right;'>0.3814</td><td style='color:black;background-color:#dca164;text-align:right;'>0.2712</td></tr>\n",
       "</table>"
      ],
      "text/plain": [
       "(gum::Potential<double>@0x203c9f5e140) \n",
       "  Disease                    |\n",
       "No       |Disease1 |Disease2 |\n",
       "---------|---------|---------|\n",
       " 0.3475  | 0.3814  | 0.2712  |"
      ]
     },
     "execution_count": 17,
     "metadata": {},
     "output_type": "execute_result"
    }
   ],
   "source": [
    "ie.eraseAllEvidence()\n",
    "# Пусть известно, что у пациента присутствуют оба симптома (про тест ничего не известно)\n",
    "ie.setEvidence({'Symptom1': 1,\n",
    "                'Symptom2': 1})\n",
    "# Апостериорная вероятность того, что у пациента есть заболевание\n",
    "ie.posterior('Disease')"
   ]
  },
  {
   "cell_type": "markdown",
   "metadata": {},
   "source": [
    "При наличии обоих симптомов вероятности каждого из заболеваний и здорового состояния приблизительно равны. Здесь может помочь результат диагностики."
   ]
  },
  {
   "cell_type": "code",
   "execution_count": 18,
   "metadata": {},
   "outputs": [
    {
     "data": {
      "text/html": [
       "<table style=\"border:1px solid black;\">\n",
       "<tr style='border:1px solid black;color:black;background-color:#808080'><th colspan='3'><center>Disease</center></th></tr>\n",
       "<tr><th style='border:1px solid black;border-bottom-style: double;color:black;background-color:#BBBBBB'><center>No</center></th><th style='border:1px solid black;border-bottom-style: double;color:black;background-color:#BBBBBB'><center>Disease1</center></th><th style='border:1px solid black;border-bottom-style: double;color:black;background-color:#BBBBBB'><center>Disease2</center></th></tr>\n",
       "<tr><td style='color:black;background-color:#c3ba64;text-align:right;'>0.4678</td><td style='color:black;background-color:#bdc064;text-align:right;'>0.5134</td><td style='color:black;background-color:#fc8164;text-align:right;'>0.0188</td></tr>\n",
       "</table>"
      ],
      "text/plain": [
       "(gum::Potential<double>@0x203c9f5dcc0) \n",
       "  Disease                    |\n",
       "No       |Disease1 |Disease2 |\n",
       "---------|---------|---------|\n",
       " 0.4678  | 0.5134  | 0.0188  |"
      ]
     },
     "execution_count": 18,
     "metadata": {},
     "output_type": "execute_result"
    }
   ],
   "source": [
    "ie.eraseAllEvidence()\n",
    "# Пусть известно, что у пациента присутствуют оба симптома и тест отрицательный\n",
    "ie.setEvidence({'Symptom1': 1,\n",
    "                'Symptom2': 1,\n",
    "                'Test': 0})\n",
    "# Апостериорная вероятность того, что у пациента есть заболевание\n",
    "ie.posterior('Disease')"
   ]
  },
  {
   "cell_type": "markdown",
   "metadata": {},
   "source": [
    "Отрицательный тест (при наличии симптомов) свидетельствует в пользу заболевания З1."
   ]
  },
  {
   "cell_type": "code",
   "execution_count": 19,
   "metadata": {},
   "outputs": [
    {
     "data": {
      "text/html": [
       "<table style=\"border:1px solid black;\">\n",
       "<tr style='border:1px solid black;color:black;background-color:#808080'><th colspan='3'><center>Disease</center></th></tr>\n",
       "<tr><th style='border:1px solid black;border-bottom-style: double;color:black;background-color:#BBBBBB'><center>No</center></th><th style='border:1px solid black;border-bottom-style: double;color:black;background-color:#BBBBBB'><center>Disease1</center></th><th style='border:1px solid black;border-bottom-style: double;color:black;background-color:#BBBBBB'><center>Disease2</center></th></tr>\n",
       "<tr><td style='color:black;background-color:#fa8364;text-align:right;'>0.0373</td><td style='color:black;background-color:#f98464;text-align:right;'>0.0409</td><td style='color:black;background-color:#89f464;text-align:right;'>0.9218</td></tr>\n",
       "</table>"
      ],
      "text/plain": [
       "(gum::Potential<double>@0x203c9f5e000) \n",
       "  Disease                    |\n",
       "No       |Disease1 |Disease2 |\n",
       "---------|---------|---------|\n",
       " 0.0373  | 0.0409  | 0.9218  |"
      ]
     },
     "execution_count": 19,
     "metadata": {},
     "output_type": "execute_result"
    }
   ],
   "source": [
    "ie.eraseAllEvidence()\n",
    "# Пусть известно, что у пациента присутствуют оба симптома и тест положительный\n",
    "ie.setEvidence({'Symptom1': 1,\n",
    "                'Symptom2': 1,\n",
    "                'Test': 1})\n",
    "# Апостериорная вероятность того, что у пациента есть заболевание\n",
    "ie.posterior('Disease')"
   ]
  },
  {
   "cell_type": "markdown",
   "metadata": {},
   "source": [
    "Положительный тест (в дополнение к наблюдаемым симптомам) позволяет с уверенностью судить о наличии заболевания З2."
   ]
  },
  {
   "cell_type": "markdown",
   "metadata": {},
   "source": [
    "# Определение ожидаемой полезности на основе байесовской сети\n",
    "\n",
    "До данного момента мы рассуждали исключительно о вероятности той или иной ситуации (описываемой определенным значением переменных) при наличии свидетельств. Для каждой ситуации также может быть сопоставлена определенная полезность (привлекательность) с точки зрения пациента (например). Само сопоставление ситуации (значения набора переменных) и полезности (привлекательности) задано в условии. К сожалению, вероятностная природа задачи не позволяет говорить о том, что то или иное значение функции полезности будет получено при определенных наблюдениях. Однако возможность оценить вероятность каждой из ситуаций, фигурирующих в определении функции полезности, позволяет оценить _ожидаемую полезность_ (математическое ожидание полезности) при том или ином наборе свидетельств.\n"
   ]
  },
  {
   "cell_type": "markdown",
   "metadata": {},
   "source": [
    "Одна из сложностей задачи связана с тем, что задано две метрики эффективности - деньги (стоимость терапии, стоимость диагностики) и \"эффект\" от применения терапии, который как-то связан с самочувствием. Простейшим способом принятия решений в условиях двух критериев является построение агрегированного критерия, являющегося сверткой базовых. Если идти по этому пути, то необходимо каким-то образом сопоставить единицу самочувствия пациента денежным затратам. Очевидно, это сопоставление не может быть универсальным и может сильно зависеть от индивидуальных предпочтений пацента. Поэтому при применении подобного подхода значение коэффициентов, как правило, остаются \"подвижными\" и иногда предлагаются специальные формальные процедуры для выяснения предпочтений пользователя (например, метод попарных сравнений). \n",
    "\n",
    "Поскольку в условии мало что сказано про \"эффект\", попробуем дополнить его на основе здравого смысла (различной степени \"здравости\"). Так, при отсутствии лечения \"эффект\" имеет значение около минус 100. Мы не знаем специфики заболеваний, но предположим, что это относительно \"стандартные\" вирусные или бактериальные инфекции, с которыми организм, как правило, может справиться самостоятельно. При отсутствии лечения подобные заболевания могут длиться около 2х недель. Соответственно, под значением \"эффекта\" $-100$ будем понимать нетрудоспособность в течение 14-ти дней (исходя из пятидневной рабочей недели). Исходя из среднего размера оплаты труда (70 т.р. в месяц) каждый день нетрудоспособности может быть оценен в 2333 руб., следовательно, единица \"эффекта\" может быть приравнена к 327 руб.\n",
    "\n",
    "Подобная скаляризация позволяет записать функцию полезности следующим образом (колонка \"Всего\" показывает суммарную стоимость с учетом стоимости терапии - 2500 руб. и 3000 руб.):\n",
    "\n",
    "| Болезнь | Терапия  |  Эффект  | Эффект (руб.) |    Всего (руб.) |\n",
    "|---------|----------|----------|---------------|-----------------|\n",
    "|  Нет    |  Нет     |     0    |      0        |         0       | \n",
    "|  Нет    |  Т1      |   -20    |    -6540      |     -9040       |\n",
    "|  Нет    |  Т2      |   -25    |    -8175      |     -8475       |\n",
    "|  З1     |  Нет     |   -100   |   -32700      |    -32700       |\n",
    "|  З1     |  T1      |   -50    |   -16350      |    -18850       |\n",
    "|  З1     |  T2      |   -125   |   -40875      |    -41175       |\n",
    "|  З2     |  Нет     |   -110   |   -35970      |    -35970       |\n",
    "|  З2     |  T1      |   -130   |   -42510      |    -45010       |\n",
    "|  З2     |  T2      |   -45    |   -14715      |    -15015       |\n",
    "\n"
   ]
  },
  {
   "cell_type": "markdown",
   "metadata": {},
   "source": [
    "Опишем эту таблицу с помощью структуры Potential (потенциал), предоставляемой библиотекой pyAgrum. Потенциал можно представить себе как многомерную таблицу. Эта абстракция широко используется при реализации различных алгоримов на вероятностных графических моделях."
   ]
  },
  {
   "cell_type": "code",
   "execution_count": 20,
   "metadata": {},
   "outputs": [
    {
     "data": {
      "text/html": [
       "<table style=\"border:1px solid black;\">\n",
       "<tr><th colspan='1'></th><th colspan='3' style='border:1px solid black;color:black;background-color:#808080;'><center>Treat</center></th></tr>\n",
       "<tr><th style='border:1px solid black;color:black;background-color:#808080'><center>Disease</center></th><th style='border:1px solid black;border-bottom-style: double;color:black;background-color:#BBBBBB'><center>No</center></th><th style='border:1px solid black;border-bottom-style: double;color:black;background-color:#BBBBBB'><center>T1</center></th><th style='border:1px solid black;border-bottom-style: double;color:black;background-color:#BBBBBB'><center>T2</center></th></tr>\n",
       "<tr><th style='border:1px solid black;color:black;background-color:#BBBBBB'><center>No</center></th><td style='text-align:right;'>0.0000</td><td style='text-align:right;'>-9040.0000</td><td style='text-align:right;'>-8475.0000</td></tr>\n",
       "<tr><th style='border:1px solid black;color:black;background-color:#BBBBBB'><center>Disease1</center></th><td style='text-align:right;'>-32700.0000</td><td style='text-align:right;'>-18850.0000</td><td style='text-align:right;'>-41175.0000</td></tr>\n",
       "<tr><th style='border:1px solid black;color:black;background-color:#BBBBBB'><center>Disease2</center></th><td style='text-align:right;'>-35970.0000</td><td style='text-align:right;'>-45010.0000</td><td style='text-align:right;'>-15015.0000</td></tr>\n",
       "</table>"
      ],
      "text/plain": [
       "(gum::Potential<double>@0x203c9f5dd40) \n",
       "      ||  Treat                      |\n",
       "Diseas||No       |T1       |T2       |\n",
       "------||---------|---------|---------|\n",
       "No    || 0.0000  | -9040.0000| -8475.0000|\n",
       "Diseas|| -32700.0000| -18850.0000| -41175.0000|\n",
       "Diseas|| -35970.0000| -45010.0000| -15015.0000|"
      ]
     },
     "execution_count": 20,
     "metadata": {},
     "output_type": "execute_result"
    }
   ],
   "source": [
    "# Потенциал определяется на наборе переменных. В нашем случае их две - \n",
    "# Болезнь (используем ее определение из сети) и Лечение.\n",
    "d = medicine_bn.variable(0)\n",
    "c = gum.LabelizedVariable('Treat', 'Treated?', 3)\n",
    "c.changeLabel(0, 'No')\n",
    "c.changeLabel(1, 'T1')\n",
    "c.changeLabel(2, 'T2')\n",
    "\n",
    "utility_potential = gum.Potential().add(c).add(d)\n",
    "utility_potential.fillWith([     0,  -9040,  -8475, \n",
    "                            -32700, -18850, -41175, \n",
    "                            -35970, -45010, -15015])"
   ]
  },
  {
   "cell_type": "markdown",
   "metadata": {},
   "source": [
    "Каждой строчке таблицы выше (и, соответветственно, каждой ячейке потенциала) можно поставить в соответствие вероятность, которая определяется как совместная вероятность всех вероятностных переменных, участвующих в таблице (с учетом имеющихся свидетельств). В данном случае вероятностная переменная всего одна: Болезнь (Disease). Если ничего про пациента неизвестно, то вероятность значения переменной Болезнь - это просто априорная вероятность:"
   ]
  },
  {
   "cell_type": "code",
   "execution_count": 21,
   "metadata": {},
   "outputs": [],
   "source": [
    "def disease_proba_factor(ie, ev):\n",
    "    ie.eraseAllEvidence()\n",
    "    ie.setEvidence(ev)\n",
    "    return ie.posterior('Disease') #.toarray()"
   ]
  },
  {
   "cell_type": "code",
   "execution_count": 22,
   "metadata": {},
   "outputs": [
    {
     "data": {
      "text/html": [
       "<table style=\"border:1px solid black;\">\n",
       "<tr style='border:1px solid black;color:black;background-color:#808080'><th colspan='3'><center>Disease</center></th></tr>\n",
       "<tr><th style='border:1px solid black;border-bottom-style: double;color:black;background-color:#BBBBBB'><center>No</center></th><th style='border:1px solid black;border-bottom-style: double;color:black;background-color:#BBBBBB'><center>Disease1</center></th><th style='border:1px solid black;border-bottom-style: double;color:black;background-color:#BBBBBB'><center>Disease2</center></th></tr>\n",
       "<tr><td style='color:black;background-color:#81fc64;text-align:right;'>0.9840</td><td style='color:black;background-color:#fd8064;text-align:right;'>0.0100</td><td style='color:black;background-color:#fe7f64;text-align:right;'>0.0060</td></tr>\n",
       "</table>"
      ],
      "text/plain": [
       "(gum::Potential<double>@0x203c9f5de80) \n",
       "  Disease                    |\n",
       "No       |Disease1 |Disease2 |\n",
       "---------|---------|---------|\n",
       " 0.9840  | 0.0100  | 0.0060  |"
      ]
     },
     "execution_count": 22,
     "metadata": {},
     "output_type": "execute_result"
    }
   ],
   "source": [
    "disease_proba_factor(ie, {})"
   ]
  },
  {
   "cell_type": "markdown",
   "metadata": {},
   "source": [
    "Ожидаемая полезность позволяет агрегировать значения полезности, связанные с вероятностными переменными. Она определяется следующим образом: \n",
    "\n",
    "$$\n",
    "EU(Treat | E) = \\sum_{d \\in Disease}[p(d|E)*U(d, Treat)]\n",
    "$$\n",
    "\n",
    "Здесь $E$ - свидетельства, то, что известно в момент принятия решения.\n",
    "\n",
    "То есть, необходимо суммировать произведения вероятности различных заболеваний при условии известных свидетельств ($p(d|E)$) на значение соответствующей функции полезности.\n",
    "\n",
    "Подобная операция типична для вывода на вероятностных графических моделях и поддерживается непосредственно классом Potential:\n"
   ]
  },
  {
   "cell_type": "code",
   "execution_count": 23,
   "metadata": {},
   "outputs": [
    {
     "data": {
      "text/html": [
       "<table style=\"border:1px solid black;\">\n",
       "<tr style='border:1px solid black;color:black;background-color:#808080'><th colspan='3'><center>Treat</center></th></tr>\n",
       "<tr><th style='border:1px solid black;border-bottom-style: double;color:black;background-color:#BBBBBB'><center>No</center></th><th style='border:1px solid black;border-bottom-style: double;color:black;background-color:#BBBBBB'><center>T1</center></th><th style='border:1px solid black;border-bottom-style: double;color:black;background-color:#BBBBBB'><center>T2</center></th></tr>\n",
       "<tr><td style='text-align:right;'>-542.8200</td><td style='text-align:right;'>-9353.9200</td><td style='text-align:right;'>-8841.2400</td></tr>\n",
       "</table>"
      ],
      "text/plain": [
       "(gum::Potential<double>@0x203c9f5da20) \n",
       "  Treat                      |\n",
       "No       |T1       |T2       |\n",
       "---------|---------|---------|\n",
       " -542.8200| -9353.9200| -8841.2400|"
      ]
     },
     "execution_count": 23,
     "metadata": {},
     "output_type": "execute_result"
    }
   ],
   "source": [
    "# Произведение потенциалов эквивалентно произведению всех значений, у которых\n",
    "# одинаковы значения соответствующих переменных (Disease),\n",
    "# а margSumOut() осуществляет маржинализацию переменной Disease (сложение\n",
    "# ячеек, соответствующих этой переменной для каждого сочетания других переменных)\n",
    "(utility_potential * disease_proba_factor(ie, {})).margSumOut(['Disease'])"
   ]
  },
  {
   "cell_type": "markdown",
   "metadata": {},
   "source": [
    "Таким образом, каждому из возможных значений управления ставится в соответствие определенное значение ожидаемой полезности.\n",
    "\n",
    "В свою очередь, оптимальным решением является такое, которое максимизирует ожидаемую полезность:\n",
    "\n",
    "$$\n",
    "best = \\arg\\max_{t \\in Treat} EU(t | E).\n",
    "$$\n",
    "\n",
    "Таким образом, оптимальным решением в таком случае является решение \"Не лечить\". А итоговой ожидаемой полезностью с учетом принятого решения будет -542.82.\n",
    "\n",
    "Обобщим поиск итоговой ожидаемой полезности с учетом этих рассуждений."
   ]
  },
  {
   "cell_type": "code",
   "execution_count": 24,
   "metadata": {},
   "outputs": [
    {
     "data": {
      "text/plain": [
       "(-542.8199999999997, [{'Treat': 0}])"
      ]
     },
     "execution_count": 24,
     "metadata": {},
     "output_type": "execute_result"
    }
   ],
   "source": [
    "# Этот хак обходит некорректную работу некоторых функций с отрицательными потенциалами\n",
    "def max_u(potential):\n",
    "    min_val = potential.min()\n",
    "    if min_val < 0:\n",
    "        potential = potential - (min_val - 1)\n",
    "        return potential.max() + (min_val - 1)\n",
    "    return potential.max()\n",
    "\n",
    "def max_argmax_u(potential):\n",
    "    min_val = potential.min()\n",
    "    if min_val < 0:\n",
    "        potential = potential - (min_val - 1)\n",
    "        return potential.max() + (min_val - 1), potential.argmax()\n",
    "    return potential.max(), potential.argmax()\n",
    "\n",
    "def eu(ie, evidence, utility_potential):\n",
    "    \"\"\"Вычисление итоговой ожидаемой полезности с учетом свидетельств.\n",
    "    \n",
    "    Внимание! Корректна только для определенного вида функции полезности - \n",
    "              связывающей Болезнь и Лечение.\n",
    "    \"\"\"\n",
    "    tmp = (utility_potential * disease_proba_factor(ie, evidence)).margSumOut(['Disease'])\n",
    "    # Этот хак обходит некорректную работу некоторых функций с отрицательными потенциалами\n",
    "    return max_argmax_u(tmp)\n",
    "\n",
    "eu(ie, {}, utility_potential)"
   ]
  },
  {
   "cell_type": "markdown",
   "metadata": {},
   "source": [
    "Что если мы знаем, что у пациента наблюдается только симптом С2? Стоит ли делать диагностическую процедуру и получить дополнительную информацию для принятия решения? В принципе, можно добавить решение о диагностической процедуре как еще одну переменную в потенциал полезности, однако при такой маленькой сети можно поступить и проще: оценить распределение вероятностей результата теста при имеющейся информации и возможные исходы (с учетом теста и без него):"
   ]
  },
  {
   "cell_type": "markdown",
   "metadata": {},
   "source": [
    "1. Если тест не делаем:"
   ]
  },
  {
   "cell_type": "code",
   "execution_count": 25,
   "metadata": {},
   "outputs": [
    {
     "data": {
      "text/html": [
       "<table style=\"border:1px solid black;\">\n",
       "<tr style='border:1px solid black;color:black;background-color:#808080'><th colspan='3'><center>Treat</center></th></tr>\n",
       "<tr><th style='border:1px solid black;border-bottom-style: double;color:black;background-color:#BBBBBB'><center>No</center></th><th style='border:1px solid black;border-bottom-style: double;color:black;background-color:#BBBBBB'><center>T1</center></th><th style='border:1px solid black;border-bottom-style: double;color:black;background-color:#BBBBBB'><center>T2</center></th></tr>\n",
       "<tr><td style='text-align:right;'>-2271.7067</td><td style='text-align:right;'>-11174.1466</td><td style='text-align:right;'>-9048.8221</td></tr>\n",
       "</table>"
      ],
      "text/plain": [
       "(gum::Potential<double>@0x203c9f5dfe0) \n",
       "  Treat                      |\n",
       "No       |T1       |T2       |\n",
       "---------|---------|---------|\n",
       " -2271.7067| -11174.1466| -9048.8221|"
      ]
     },
     "execution_count": 25,
     "metadata": {},
     "output_type": "execute_result"
    }
   ],
   "source": [
    "(utility_potential * disease_proba_factor(ie, {'Symptom1': 0, 'Symptom2': 1})).margSumOut(['Disease'])"
   ]
  },
  {
   "cell_type": "markdown",
   "metadata": {},
   "source": [
    "То лечить не будем, ожидаемая полезность равна -2271,7."
   ]
  },
  {
   "cell_type": "markdown",
   "metadata": {},
   "source": [
    "2. Если тест делаем:"
   ]
  },
  {
   "cell_type": "code",
   "execution_count": 26,
   "metadata": {
    "scrolled": true
   },
   "outputs": [
    {
     "data": {
      "text/html": [
       "<table style=\"border:1px solid black;\">\n",
       "<tr style='border:1px solid black;color:black;background-color:#808080'><th colspan='3'><center>Treat</center></th></tr>\n",
       "<tr><th style='border:1px solid black;border-bottom-style: double;color:black;background-color:#BBBBBB'><center>No</center></th><th style='border:1px solid black;border-bottom-style: double;color:black;background-color:#BBBBBB'><center>T1</center></th><th style='border:1px solid black;border-bottom-style: double;color:black;background-color:#BBBBBB'><center>T2</center></th></tr>\n",
       "<tr><td style='text-align:right;'>-25001.1719</td><td style='text-align:right;'>-33991.4974</td><td style='text-align:right;'>-14060.5469</td></tr>\n",
       "</table>"
      ],
      "text/plain": [
       "(gum::Potential<double>@0x203c9f5da60) \n",
       "  Treat                      |\n",
       "No       |T1       |T2       |\n",
       "---------|---------|---------|\n",
       " -25001.1719| -33991.4974| -14060.5469|"
      ]
     },
     "execution_count": 26,
     "metadata": {},
     "output_type": "execute_result"
    }
   ],
   "source": [
    "def test_proba_factor(ie, ev):\n",
    "    \"\"\"Вычисление вероятности показаний теста в зависимости от имеющейся информации.\"\"\"\n",
    "    ie.eraseAllEvidence()\n",
    "    ie.setEvidence(ev)\n",
    "    return ie.posterior('Test') #.toarray()\n",
    "\n",
    "# Если тест делаем, то возможны два исхода (не забываем учесть стоимость теста - 1200 руб.): \n",
    "# 1. Тест окажется положительным\n",
    "test_positive = (utility_potential * disease_proba_factor(ie, {'Symptom1': 0, 'Symptom2': 1, 'Test': 1})).margSumOut(['Disease']) - 1200 \n",
    "test_positive"
   ]
  },
  {
   "cell_type": "markdown",
   "metadata": {},
   "source": [
    "(оптимальным решением будет применение терапии T2, что приведет к ожидаемой полезности -14060.54)"
   ]
  },
  {
   "cell_type": "code",
   "execution_count": 27,
   "metadata": {},
   "outputs": [
    {
     "data": {
      "text/html": [
       "<table style=\"border:1px solid black;\">\n",
       "<tr style='border:1px solid black;color:black;background-color:#808080'><th colspan='3'><center>Treat</center></th></tr>\n",
       "<tr><th style='border:1px solid black;border-bottom-style: double;color:black;background-color:#BBBBBB'><center>No</center></th><th style='border:1px solid black;border-bottom-style: double;color:black;background-color:#BBBBBB'><center>T1</center></th><th style='border:1px solid black;border-bottom-style: double;color:black;background-color:#BBBBBB'><center>T2</center></th></tr>\n",
       "<tr><td style='text-align:right;'>-1521.0505</td><td style='text-align:right;'>-10415.5276</td><td style='text-align:right;'>-9903.4645</td></tr>\n",
       "</table>"
      ],
      "text/plain": [
       "(gum::Potential<double>@0x203c9f5dd80) \n",
       "  Treat                      |\n",
       "No       |T1       |T2       |\n",
       "---------|---------|---------|\n",
       " -1521.0505| -10415.5276| -9903.4645|"
      ]
     },
     "execution_count": 27,
     "metadata": {},
     "output_type": "execute_result"
    }
   ],
   "source": [
    "# 2. Тест может оказаться и отрицательным\n",
    "test_negative = (utility_potential * disease_proba_factor(ie, {'Symptom1': 0, 'Symptom2': 1, 'Test': 0})).margSumOut(['Disease']) - 1200\n",
    "test_negative"
   ]
  },
  {
   "cell_type": "markdown",
   "metadata": {},
   "source": [
    "(в этом случае оптимальным решением будет отсутствие лечения, что приведет к ожидаемой полезности -1521.05)\n",
    "\n",
    "Вероятности этих исходов различны:"
   ]
  },
  {
   "cell_type": "code",
   "execution_count": 28,
   "metadata": {},
   "outputs": [
    {
     "data": {
      "text/html": [
       "<table style=\"border:1px solid black;\">\n",
       "<tr style='border:1px solid black;color:black;background-color:#808080'><th colspan='2'><center>Test</center></th></tr>\n",
       "<tr><th style='border:1px solid black;border-bottom-style: double;color:black;background-color:#BBBBBB'><center>0</center></th><th style='border:1px solid black;border-bottom-style: double;color:black;background-color:#BBBBBB'><center>1</center></th></tr>\n",
       "<tr><td style='color:black;background-color:#89f464;text-align:right;'>0.9169</td><td style='color:black;background-color:#f48964;text-align:right;'>0.0831</td></tr>\n",
       "</table>"
      ],
      "text/plain": [
       "(gum::Potential<double>@0x203c9f5df80) \n",
       "  Test             |\n",
       "0        |1        |\n",
       "---------|---------|\n",
       " 0.9169  | 0.0831  |"
      ]
     },
     "execution_count": 28,
     "metadata": {},
     "output_type": "execute_result"
    }
   ],
   "source": [
    "tmp = test_proba_factor(ie, {'Symptom1': 0, 'Symptom2': 1})\n",
    "tmp"
   ]
  },
  {
   "cell_type": "code",
   "execution_count": 29,
   "metadata": {},
   "outputs": [
    {
     "data": {
      "text/plain": [
       "-2562.79326923077"
      ]
     },
     "execution_count": 29,
     "metadata": {},
     "output_type": "execute_result"
    }
   ],
   "source": [
    "# Таким образом, итоговая ожидаемая полезность:\n",
    "tmp[0]*max_u(test_negative) + tmp[1]*max_u(test_positive)"
   ]
  },
  {
   "cell_type": "markdown",
   "metadata": {},
   "source": [
    "Ожидаемая полезность с учетом знания результатов теста оказалась ниже, чем без учета знания результатов теста. Следовательно, тест в такой ситуации проводить нецелесообразно. Любопытно, что разница в ожидаемой полезности оказалась всего около 200 руб., то есть был бы тест чуть дешевле, его проводить в такой ситуации оказалось бы выгодно."
   ]
  },
  {
   "cell_type": "markdown",
   "metadata": {},
   "source": [
    "# Цена информации\n",
    "\n",
    "По определению, цена информации $e'$ - это разница между полезностью с учетом информации и полезностью без ее учета:\n",
    "\n",
    "$$\n",
    "IV = EU(e \\cup e') - EU(e)\n",
    "$$\n",
    "\n",
    "Смысл здесь в том, что наличие определенной информации (не определенные значения, а сама возможность доступа к значению тех или иных переменных) позволяет сделать стратегию принятия решения более выразительной - можно принимать различные решения в зависимости от значений наблюдаемых переменных.\n",
    "\n",
    "## Оценка цены информации о симптоме С1\n",
    "\n",
    "Чтобы провести оценку цены информации необходимо построить оптимальную стратегию принятия решения с учетом симптома С1, а потом оценить ожидаемую полезность от следования такой стратегии.\n",
    "\n",
    "Построим потенциал, совмещающий информацию, имеющуюся при принятии решения, и соответствующие значения функции полезности:\n"
   ]
  },
  {
   "cell_type": "code",
   "execution_count": 30,
   "metadata": {
    "scrolled": true
   },
   "outputs": [
    {
     "data": {
      "text/html": [
       "<table style=\"border:1px solid black;\">\n",
       "<tr><th colspan='2'></th><th colspan='3' style='border:1px solid black;color:black;background-color:#808080;'><center>Treat</center></th></tr>\n",
       "<tr><th style='border:1px solid black;color:black;background-color:#808080'><center>Disease</center></th><th style='border:1px solid black;color:black;background-color:#808080'><center>Symptom1</center></th><th style='border:1px solid black;border-bottom-style: double;color:black;background-color:#BBBBBB'><center>No</center></th><th style='border:1px solid black;border-bottom-style: double;color:black;background-color:#BBBBBB'><center>T1</center></th><th style='border:1px solid black;border-bottom-style: double;color:black;background-color:#BBBBBB'><center>T2</center></th></tr>\n",
       "<tr><th style='border:1px solid black;color:black;background-color:#BBBBBB;' rowspan = '2'><center>No</center></th><th style='border:1px solid black;color:black;background-color:#BBBBBB'><center>0</center></th><td style='text-align:right;'>0.0000</td><td style='text-align:right;'>-9040.0000</td><td style='text-align:right;'>-8475.0000</td></tr>\n",
       "<tr><th style='border:1px solid black;color:black;background-color:#BBBBBB'><center>1</center></th><td style='text-align:right;'>0.0000</td><td style='text-align:right;'>-9040.0000</td><td style='text-align:right;'>-8475.0000</td></tr>\n",
       "<tr><th style='border:1px solid black;color:black;background-color:#BBBBBB;' rowspan = '2'><center>Disease1</center></th><th style='border:1px solid black;color:black;background-color:#BBBBBB'><center>0</center></th><td style='text-align:right;'>-32700.0000</td><td style='text-align:right;'>-18850.0000</td><td style='text-align:right;'>-41175.0000</td></tr>\n",
       "<tr><th style='border:1px solid black;color:black;background-color:#BBBBBB'><center>1</center></th><td style='text-align:right;'>-32700.0000</td><td style='text-align:right;'>-18850.0000</td><td style='text-align:right;'>-41175.0000</td></tr>\n",
       "<tr><th style='border:1px solid black;color:black;background-color:#BBBBBB;' rowspan = '2'><center>Disease2</center></th><th style='border:1px solid black;color:black;background-color:#BBBBBB'><center>0</center></th><td style='text-align:right;'>-35970.0000</td><td style='text-align:right;'>-45010.0000</td><td style='text-align:right;'>-15015.0000</td></tr>\n",
       "<tr><th style='border:1px solid black;color:black;background-color:#BBBBBB'><center>1</center></th><td style='text-align:right;'>-35970.0000</td><td style='text-align:right;'>-45010.0000</td><td style='text-align:right;'>-15015.0000</td></tr>\n",
       "</table>"
      ],
      "text/plain": [
       "(gum::Potential<double>@0x203c9f5dea0) \n",
       "             ||  Treat                      |\n",
       "Sympto|Diseas||No       |T1       |T2       |\n",
       "------|------||---------|---------|---------|\n",
       "0     |No    || 0.0000  | -9040.0000| -8475.0000|\n",
       "1     |No    || 0.0000  | -9040.0000| -8475.0000|\n",
       "0     |Diseas|| -32700.0000| -18850.0000| -41175.0000|\n",
       "1     |Diseas|| -32700.0000| -18850.0000| -41175.0000|\n",
       "0     |Diseas|| -35970.0000| -45010.0000| -15015.0000|\n",
       "1     |Diseas|| -35970.0000| -45010.0000| -15015.0000|"
      ]
     },
     "execution_count": 30,
     "metadata": {},
     "output_type": "execute_result"
    }
   ],
   "source": [
    "d = medicine_bn.variable(0)   # Болезнь\n",
    "s1 = medicine_bn.variable(1)  # Симптом 1\n",
    "c = gum.LabelizedVariable('Treat', 'Treated?', 3) # Лечение\n",
    "c.changeLabel(0, 'No')\n",
    "c.changeLabel(1, 'T1')\n",
    "c.changeLabel(2, 'T2')\n",
    "\n",
    "utility_potential_s1 = gum.Potential().add(c).add(s1).add(d)\n",
    "\n",
    "# Значение полезности по факту не зависит от наличия симптома \n",
    "# просто копируем значения из таблицы utility_potential\n",
    "for disease in ['No', 'Disease1', 'Disease2']:\n",
    "    for s1 in [0, 1]:\n",
    "        for t in ['No', 'T1', 'T2']:\n",
    "            utility_potential_s1[{'Disease': disease, 'Symptom1': s1, 'Treat': t}] = utility_potential[{'Disease': disease, 'Treat': t}]\n",
    "utility_potential_s1    "
   ]
  },
  {
   "cell_type": "markdown",
   "metadata": {},
   "source": [
    "Далее необходимо найти вероятность, соответствующую каждой ячейке. Это совместная вероятность $p(Disease, Symptom1) = p(Symptom1|Disease)p(Disease)$. Соответствующие значения содержатся непосредственно в таблицах условных распределений:"
   ]
  },
  {
   "cell_type": "code",
   "execution_count": 31,
   "metadata": {},
   "outputs": [],
   "source": [
    "joint_proba_d_s1 = medicine_bn.cpt(medicine_bn.idFromName('Disease')) * medicine_bn.cpt(medicine_bn.idFromName('Symptom1'))"
   ]
  },
  {
   "cell_type": "markdown",
   "metadata": {},
   "source": [
    "Маржинализация переменной Болезнь даст ожидаемую полезность для каждого сочетания наблюдаемой и управляемой переменных:"
   ]
  },
  {
   "cell_type": "code",
   "execution_count": 32,
   "metadata": {},
   "outputs": [
    {
     "data": {
      "text/html": [
       "<table style=\"border:1px solid black;\">\n",
       "<tr><th colspan='1'></th><th colspan='2' style='border:1px solid black;color:black;background-color:#808080;'><center>Symptom1</center></th></tr>\n",
       "<tr><th style='border:1px solid black;color:black;background-color:#808080'><center>Treat</center></th><th style='border:1px solid black;border-bottom-style: double;color:black;background-color:#BBBBBB'><center>0</center></th><th style='border:1px solid black;border-bottom-style: double;color:black;background-color:#BBBBBB'><center>1</center></th></tr>\n",
       "<tr><th style='border:1px solid black;color:black;background-color:#BBBBBB'><center>No</center></th><td style='text-align:right;'>-162.1920</td><td style='text-align:right;'>-380.6280</td></tr>\n",
       "<tr><th style='border:1px solid black;color:black;background-color:#BBBBBB'><center>T1</center></th><td style='text-align:right;'>-8631.4780</td><td style='text-align:right;'>-722.4420</td></tr>\n",
       "<tr><th style='border:1px solid black;color:black;background-color:#BBBBBB'><center>T2</center></th><td style='text-align:right;'>-8017.6590</td><td style='text-align:right;'>-823.5810</td></tr>\n",
       "</table>"
      ],
      "text/plain": [
       "(gum::Potential<double>@0x203c9f5e120) \n",
       "      ||  Symptom1         |\n",
       "Treat ||0        |1        |\n",
       "------||---------|---------|\n",
       "No    || -162.1920| -380.6280|\n",
       "T1    || -8631.4780| -722.4420|\n",
       "T2    || -8017.6590| -823.5810|"
      ]
     },
     "execution_count": 32,
     "metadata": {},
     "output_type": "execute_result"
    }
   ],
   "source": [
    "(utility_potential_s1 * joint_proba_d_s1).margSumOut(['Disease'])"
   ]
  },
  {
   "cell_type": "markdown",
   "metadata": {},
   "source": [
    "Видно, что вне зависимости от наличия симптома, оптимальным управлением будет отсутствие лечения. Следовательно, при наличии информации о симптоме С1 стратегия будет полностью совпадать со стратегией без этой информации, а значит и ожидаемая полезность не изменится. Таким образом, цена информации о симптоме С1 равна 0."
   ]
  },
  {
   "cell_type": "markdown",
   "metadata": {},
   "source": [
    "# Рекомендуемые ссылки:\n",
    "\n",
    "- https://webia.lip6.fr/~phw//aGrUM/docs/last/notebooks/01-tutorial.ipynb.html и другие обучающие материалы по PyAgrum.\n"
   ]
  }
 ],
 "metadata": {
  "kernelspec": {
   "display_name": "Python 3",
   "language": "python",
   "name": "python3"
  },
  "language_info": {
   "codemirror_mode": {
    "name": "ipython",
    "version": 3
   },
   "file_extension": ".py",
   "mimetype": "text/x-python",
   "name": "python",
   "nbconvert_exporter": "python",
   "pygments_lexer": "ipython3",
   "version": "3.7.6"
  }
 },
 "nbformat": 4,
 "nbformat_minor": 4
}
