{
 "cells": [
  {
   "cell_type": "markdown",
   "metadata": {},
   "source": [
    "В данном блокноте рассматривается пример использования диаграммы влияния для выбора оптимальной стратегии при решении задачи с неопределенностью.\n",
    "\n",
    "Блокнот является своего рода пояснением к [слайдам](https://avponomarev.bitbucket.io/slides/Курсовая_вводная_БС.pdf) и в нем рассматривается тот же \"игрушечный\" пример из области медицинской диагностики. А именно:\n",
    "\n",
    "Вероятность появление некоторого заболевания составляет $0.01$. Заболевание может проявляться одним из двух симптомов (С1 и С2). Вероятность проявления симптома С1 при наличии и отсутствии заболевания составляет $0.7$ и $0.01$ соответственно, а вероятность проявления симптома С2 при наличии и отсутствии заболевания составляет $0.9$ и $0.3$ соответственно. Предполагается, что для данного заболевания существует всего один вид терапии. Известны также значения функции полезности, отражающей субъективные неудобства от каждого возможного развития событий:\n",
    "\n",
    "| Болезнь | Лечить?  |  Эффект  |\n",
    "|---------|----------|----------|\n",
    "|  Да     |  Да      |   -1     |\n",
    "|  Да     |  Нет     |   -40    |\n",
    "|  Нет    |  Да      |   -10    |\n",
    "|  Нет    |  Нет     |    0     |\n",
    "\n",
    "Для описания данной задачи воспользуемся возможностями библиотеки pyAgrum. Построим модель (байесовскую сеть), а потом ответим с ее помощью на несколько вопросов, касающихся выбора оптимальной стратегии для различных ситуаций.\n",
    "\n",
    "Установить библиотеку можно с помощью [следующих команд](https://agrum.gitlab.io/pages/pyagrum-installation.html):\n",
    "\n",
    "    conda install -c conda-forge pyagrum\n",
    "\n",
    "или \n",
    "\n",
    "    pip install pyagrum\n",
    "\n",
    "\n",
    "Примечание! Вообще-то pyAgrum поддерживает возможность создания диаграмм влияния, но в текущих версиях вывод на них работает не совсем корректно. Учитывая, что диаграммы влияния являются расширением байесовских сетей, в данном блокноте мы будем использовать байесовские сети для вычисления вероятностей сложных событий, а часть, связанную с определением (ожидаемых) полезностей и оптимальных управлений будем осуществлять вручную.\n"
   ]
  },
  {
   "cell_type": "code",
   "execution_count": 1,
   "metadata": {},
   "outputs": [],
   "source": [
    "import os\n",
    "\n",
    "%matplotlib inline\n",
    "from pylab import *\n",
    "import matplotlib.pyplot as plt"
   ]
  },
  {
   "cell_type": "code",
   "execution_count": 2,
   "metadata": {},
   "outputs": [],
   "source": [
    "import pyAgrum as gum\n",
    "import pyAgrum.lib.notebook as gnb"
   ]
  },
  {
   "cell_type": "markdown",
   "metadata": {},
   "source": [
    "# Создание байесовской сети\n",
    "\n",
    "Для того, чтобы полностью специфицировать сеть, необходимо задать:\n",
    "\n",
    "- переменные (вершины трех типов - они же вершины);\n",
    "- связи между переменными (дуги);\n",
    "- таблицы условных вероятностей.\n",
    "\n",
    "В библиотеке pyAgrum для описания диаграммы влияния предназначен класс `BayesNet`:"
   ]
  },
  {
   "cell_type": "code",
   "execution_count": 3,
   "metadata": {},
   "outputs": [
    {
     "name": "stdout",
     "output_type": "stream",
     "text": [
      "BN{nodes: 0, arcs: 0, domainSize: 1, dim: 0}\n"
     ]
    }
   ],
   "source": [
    "medicine_bn = gum.BayesNet()\n",
    "print(medicine_bn)"
   ]
  },
  {
   "cell_type": "markdown",
   "metadata": {},
   "source": [
    "Очевидно, \"свежесозданная\" сеть пуста - в ней нет ни узлов, ни дуг. Создадим узлы и дуги в соответствии с описанием предметной области, приведенным выше."
   ]
  },
  {
   "cell_type": "markdown",
   "metadata": {},
   "source": [
    "## Переменные (и вероятностные узлы)\n",
    "\n",
    "pyAgrum поддерживает несколько видов переменных. Для данной задачи проще всего использовать, так называемые, `LabelizedVariable`, то есть переменные, которые могут принимать одно из фиксированного набора значений, каждое из которых имеет свою метку. Например, переменная Disease (Болезнь) может принимать одно из двух значений 'Нет' и 'Да'.\n"
   ]
  },
  {
   "cell_type": "code",
   "execution_count": 4,
   "metadata": {},
   "outputs": [
    {
     "data": {
      "text/plain": [
       "(gum::LabelizedVariable@0x23adf0aa0e0) Disease<0,1>"
      ]
     },
     "execution_count": 4,
     "metadata": {},
     "output_type": "execute_result"
    }
   ],
   "source": [
    "# Создадим переменную \n",
    "# Первый параметр - имя переменной, второй - опциональный комментарий, а третий - количство значений\n",
    "va = gum.LabelizedVariable('Disease', 'Is the patient sick?', 2)\n",
    "va"
   ]
  },
  {
   "cell_type": "markdown",
   "metadata": {},
   "source": [
    "Пока что метки (возможные значения переменной Disease) - 0 и 1. С учетом того, что 0 легко можно трактовать как отсутствие чего-то, а 1 - как присутствие, можно оставить описание переменной и в таком виде, однако изменим метки на более осмысленные:"
   ]
  },
  {
   "cell_type": "code",
   "execution_count": 5,
   "metadata": {},
   "outputs": [
    {
     "data": {
      "text/plain": [
       "(gum::LabelizedVariable@0x23adf0aa0e0) Disease<No,Yes>"
      ]
     },
     "execution_count": 5,
     "metadata": {},
     "output_type": "execute_result"
    }
   ],
   "source": [
    "va.changeLabel(0, 'No')\n",
    "va.changeLabel(1, 'Yes')\n",
    "va"
   ]
  },
  {
   "cell_type": "markdown",
   "metadata": {},
   "source": [
    "Наконец, добавим переменную в модель:"
   ]
  },
  {
   "cell_type": "code",
   "execution_count": 6,
   "metadata": {},
   "outputs": [
    {
     "data": {
      "text/plain": [
       "0"
      ]
     },
     "execution_count": 6,
     "metadata": {},
     "output_type": "execute_result"
    }
   ],
   "source": [
    "medicine_bn.add(va)"
   ]
  },
  {
   "cell_type": "markdown",
   "metadata": {},
   "source": [
    "Аналогично создадим и другие переменные:"
   ]
  },
  {
   "cell_type": "code",
   "execution_count": 7,
   "metadata": {},
   "outputs": [
    {
     "data": {
      "text/plain": [
       "2"
      ]
     },
     "execution_count": 7,
     "metadata": {},
     "output_type": "execute_result"
    }
   ],
   "source": [
    "# Симптом 1\n",
    "medicine_bn.add(gum.LabelizedVariable('Symptom1', 'Does the patient have the symptom 1?', 2))\n",
    "# Симптом 2\n",
    "medicine_bn.add(gum.LabelizedVariable('Symptom2', 'Does the patient have the symptom 2?', 2))"
   ]
  },
  {
   "cell_type": "markdown",
   "metadata": {},
   "source": [
    "## Дуги\n",
    "\n",
    "Необходимо связать узлы, соответствующие созданным переменным в струкуру, отражающую их взаимосвязь:"
   ]
  },
  {
   "cell_type": "code",
   "execution_count": 8,
   "metadata": {},
   "outputs": [],
   "source": [
    "# Наличие болезни влияет на проявление симптомов и на общее самочувствие пациента:\n",
    "medicine_bn.addArc(medicine_bn.idFromName('Disease'), medicine_bn.idFromName('Symptom1'))\n",
    "medicine_bn.addArc(medicine_bn.idFromName('Disease'), medicine_bn.idFromName('Symptom2'))"
   ]
  },
  {
   "cell_type": "code",
   "execution_count": 9,
   "metadata": {},
   "outputs": [
    {
     "data": {
      "text/html": [
       "<svg height=\"116pt\" viewBox=\"0.00 0.00 228.39 116.00\" width=\"228pt\" xmlns=\"http://www.w3.org/2000/svg\" xmlns:xlink=\"http://www.w3.org/1999/xlink\">\n",
       "<g class=\"graph\" id=\"graph0\" transform=\"scale(1 1) rotate(0) translate(4 112)\">\n",
       "<title>G</title>\n",
       "<!-- Disease -->\n",
       "<g class=\"node\" id=\"node1\"><title>Disease</title>\n",
       "<g id=\"a_node1\"><a xlink:title=\"(0) Disease\">\n",
       "<ellipse cx=\"109.696\" cy=\"-90\" fill=\"#404040\" rx=\"38.1938\" ry=\"18\" stroke=\"black\"/>\n",
       "<text fill=\"white\" font-family=\"Times New Roman,serif\" font-size=\"14.00\" text-anchor=\"middle\" x=\"109.696\" y=\"-86.3\">Disease</text>\n",
       "</a>\n",
       "</g>\n",
       "</g>\n",
       "<!-- Symptom1 -->\n",
       "<g class=\"node\" id=\"node2\"><title>Symptom1</title>\n",
       "<g id=\"a_node2\"><a xlink:title=\"(1) Symptom1\">\n",
       "<ellipse cx=\"50.6955\" cy=\"-18\" fill=\"#404040\" rx=\"50.8918\" ry=\"18\" stroke=\"black\"/>\n",
       "<text fill=\"white\" font-family=\"Times New Roman,serif\" font-size=\"14.00\" text-anchor=\"middle\" x=\"50.6955\" y=\"-14.3\">Symptom1</text>\n",
       "</a>\n",
       "</g>\n",
       "</g>\n",
       "<!-- Disease&#45;&gt;Symptom1 -->\n",
       "<g class=\"edge\" id=\"edge1\"><title>Disease-&gt;Symptom1</title>\n",
       "<g id=\"a_edge1\"><a xlink:title=\"(0, 1) : \">\n",
       "<path d=\"M96.3075,-73.1159C88.9765,-64.4181 79.7305,-53.4483 71.4827,-43.6627\" fill=\"none\" stroke=\"#4a4a4a\"/>\n",
       "<polygon fill=\"#4a4a4a\" points=\"73.9742,-41.188 64.8533,-35.7973 68.6218,-45.6993 73.9742,-41.188\" stroke=\"#4a4a4a\"/>\n",
       "</a>\n",
       "</g>\n",
       "</g>\n",
       "<!-- Symptom2 -->\n",
       "<g class=\"node\" id=\"node3\"><title>Symptom2</title>\n",
       "<g id=\"a_node3\"><a xlink:title=\"(2) Symptom2\">\n",
       "<ellipse cx=\"169.696\" cy=\"-18\" fill=\"#404040\" rx=\"50.8918\" ry=\"18\" stroke=\"black\"/>\n",
       "<text fill=\"white\" font-family=\"Times New Roman,serif\" font-size=\"14.00\" text-anchor=\"middle\" x=\"169.696\" y=\"-14.3\">Symptom2</text>\n",
       "</a>\n",
       "</g>\n",
       "</g>\n",
       "<!-- Disease&#45;&gt;Symptom2 -->\n",
       "<g class=\"edge\" id=\"edge2\"><title>Disease-&gt;Symptom2</title>\n",
       "<g id=\"a_edge2\"><a xlink:title=\"(0, 2) : \">\n",
       "<path d=\"M123.31,-73.1159C130.949,-64.2038 140.633,-52.9063 149.174,-42.9417\" fill=\"none\" stroke=\"#4a4a4a\"/>\n",
       "<polygon fill=\"#4a4a4a\" points=\"151.868,-45.1774 155.718,-35.307 146.553,-40.6218 151.868,-45.1774\" stroke=\"#4a4a4a\"/>\n",
       "</a>\n",
       "</g>\n",
       "</g>\n",
       "</g>\n",
       "</svg>"
      ],
      "text/plain": [
       "(gum::BayesNet<double>@0x23adf0a97f0) BN{nodes: 3, arcs: 2, domainSize: 8, dim: 10}"
      ]
     },
     "execution_count": 9,
     "metadata": {},
     "output_type": "execute_result"
    }
   ],
   "source": [
    "medicine_bn"
   ]
  },
  {
   "cell_type": "markdown",
   "metadata": {},
   "source": [
    "## Таблицы условных вероятностей\n",
    "\n",
    "Наконец, осталось задать условные вероятности значений переменных. Доступ к таблице условных вероятностей осуществляется с помощью метода `cpt` модели, в качестве параметра которому нужно передать идентификатор узла:"
   ]
  },
  {
   "cell_type": "code",
   "execution_count": 10,
   "metadata": {},
   "outputs": [
    {
     "data": {
      "text/html": [
       "<table style=\"border:1px solid black;\">\n",
       "<tr style='border:1px solid black;color:black;background-color:#808080'><th colspan='2'><center>Disease</center></th></tr>\n",
       "<tr><th style='border:1px solid black;border-bottom-style: double;color:black;background-color:#BBBBBB'><center>No</center></th><th style='border:1px solid black;border-bottom-style: double;color:black;background-color:#BBBBBB'><center>Yes</center></th></tr>\n",
       "<tr><td style='text-align:right;'>0.0000</td><td style='text-align:right;'>0.0000</td></tr>\n",
       "</table>"
      ],
      "text/plain": [
       "(gum::Potential<double>@0x23adf0aa060) <Disease:No> :: 0 /<Disease:Yes> :: 0"
      ]
     },
     "execution_count": 10,
     "metadata": {},
     "output_type": "execute_result"
    }
   ],
   "source": [
    "medicine_bn.cpt(medicine_bn.idFromName('Disease'))"
   ]
  },
  {
   "cell_type": "markdown",
   "metadata": {},
   "source": [
    "Для установки значений условных вероятностей можно воспользоваться методом `fillWith` таблицы, передав в него последовательность вероятностей (по значениям переменной):"
   ]
  },
  {
   "cell_type": "code",
   "execution_count": 11,
   "metadata": {},
   "outputs": [
    {
     "data": {
      "text/html": [
       "<table style=\"border:1px solid black;\">\n",
       "<tr style='border:1px solid black;color:black;background-color:#808080'><th colspan='2'><center>Disease</center></th></tr>\n",
       "<tr><th style='border:1px solid black;border-bottom-style: double;color:black;background-color:#BBBBBB'><center>No</center></th><th style='border:1px solid black;border-bottom-style: double;color:black;background-color:#BBBBBB'><center>Yes</center></th></tr>\n",
       "<tr><td style='color:black;background-color:#80fd64;text-align:right;'>0.9900</td><td style='color:black;background-color:#fd8064;text-align:right;'>0.0100</td></tr>\n",
       "</table>"
      ],
      "text/plain": [
       "(gum::Potential<double>@0x23adf0aa060) <Disease:No> :: 0.99 /<Disease:Yes> :: 0.01"
      ]
     },
     "execution_count": 11,
     "metadata": {},
     "output_type": "execute_result"
    }
   ],
   "source": [
    "medicine_bn.cpt(medicine_bn.idFromName('Disease')).fillWith([0.99, 0.01])\n",
    "medicine_bn.cpt(medicine_bn.idFromName('Disease'))"
   ]
  },
  {
   "cell_type": "markdown",
   "metadata": {},
   "source": [
    "Несколько более сложный случай - задание условных вероятностей для вершин, у которых есть входящие дуги (таблицы таких вершин, очевидно, включают все возможные значения переменных, от которых они зависят). Для правильной установки нужно понимать порядок, в котором упомянуты переменные в таблице:"
   ]
  },
  {
   "cell_type": "code",
   "execution_count": 12,
   "metadata": {},
   "outputs": [
    {
     "data": {
      "text/plain": [
       "['Disease', 'Symptom1']"
      ]
     },
     "execution_count": 12,
     "metadata": {},
     "output_type": "execute_result"
    }
   ],
   "source": [
    "medicine_bn.cpt(medicine_bn.idFromName('Symptom1')).var_names"
   ]
  },
  {
   "cell_type": "markdown",
   "metadata": {},
   "source": [
    "Соответственно, таблица выглядит так (переменная Disease - первая):\n",
    "\n",
    "| Disease | Symptom1 | p    |\n",
    "|---------|----------|------|\n",
    "|  No     |    0     | 0.99 |\n",
    "|  No     |    1     | 0.01 |\n",
    "|  Yes    |    0     | 0.3  |\n",
    "|  Yes    |    1     | 0.7  |\n"
   ]
  },
  {
   "cell_type": "code",
   "execution_count": 13,
   "metadata": {},
   "outputs": [
    {
     "data": {
      "text/html": [
       "<table style=\"border:1px solid black;\">\n",
       "<tr><th colspan='1'></th><th colspan='2' style='border:1px solid black;color:black;background-color:#808080;'><center>Symptom1</center></th></tr>\n",
       "<tr><th style='border:1px solid black;color:black;background-color:#808080'><center>Disease</center></th><th style='border:1px solid black;border-bottom-style: double;color:black;background-color:#BBBBBB'><center>0</center></th><th style='border:1px solid black;border-bottom-style: double;color:black;background-color:#BBBBBB'><center>1</center></th></tr>\n",
       "<tr><th style='border:1px solid black;color:black;background-color:#BBBBBB'><center>No</center></th><td style='color:black;background-color:#80fd64;text-align:right;'>0.9900</td><td style='color:black;background-color:#fd8064;text-align:right;'>0.0100</td></tr>\n",
       "<tr><th style='border:1px solid black;color:black;background-color:#BBBBBB'><center>Yes</center></th><td style='color:black;background-color:#d8a564;text-align:right;'>0.3000</td><td style='color:black;background-color:#a5d864;text-align:right;'>0.7000</td></tr>\n",
       "</table>"
      ],
      "text/plain": [
       "(gum::Potential<double>@0x23adf0ad6c0) <Symptom1:0|Disease:No> :: 0.99 /<Symptom1:1|Disease:No> :: 0.01 /<Symptom1:0|Disease:Yes> :: 0.3 /<Symptom1:1|Disease:Yes> :: 0.7"
      ]
     },
     "execution_count": 13,
     "metadata": {},
     "output_type": "execute_result"
    }
   ],
   "source": [
    "medicine_bn.cpt(medicine_bn.idFromName('Symptom1')).fillWith([0.99, 0.01, 0.3, 0.7])"
   ]
  },
  {
   "cell_type": "markdown",
   "metadata": {},
   "source": [
    "Это же можно делать и с помощью словарей (пожалуй, наиболее читаемый способ):"
   ]
  },
  {
   "cell_type": "code",
   "execution_count": 14,
   "metadata": {},
   "outputs": [
    {
     "data": {
      "text/html": [
       "<table style=\"border:1px solid black;\">\n",
       "<tr><th colspan='1'></th><th colspan='2' style='border:1px solid black;color:black;background-color:#808080;'><center>Symptom2</center></th></tr>\n",
       "<tr><th style='border:1px solid black;color:black;background-color:#808080'><center>Disease</center></th><th style='border:1px solid black;border-bottom-style: double;color:black;background-color:#BBBBBB'><center>0</center></th><th style='border:1px solid black;border-bottom-style: double;color:black;background-color:#BBBBBB'><center>1</center></th></tr>\n",
       "<tr><th style='border:1px solid black;color:black;background-color:#BBBBBB'><center>No</center></th><td style='color:black;background-color:#a5d864;text-align:right;'>0.7000</td><td style='color:black;background-color:#d8a564;text-align:right;'>0.3000</td></tr>\n",
       "<tr><th style='border:1px solid black;color:black;background-color:#BBBBBB'><center>Yes</center></th><td style='color:black;background-color:#f28b64;text-align:right;'>0.1000</td><td style='color:black;background-color:#8bf264;text-align:right;'>0.9000</td></tr>\n",
       "</table>"
      ],
      "text/plain": [
       "(gum::Potential<double>@0x23ae59e0e60) <Symptom2:0|Disease:No> :: 0.7 /<Symptom2:1|Disease:No> :: 0.3 /<Symptom2:0|Disease:Yes> :: 0.1 /<Symptom2:1|Disease:Yes> :: 0.9"
      ]
     },
     "execution_count": 14,
     "metadata": {},
     "output_type": "execute_result"
    }
   ],
   "source": [
    "symptom2 = medicine_bn.idFromName('Symptom2')\n",
    "\n",
    "medicine_bn.cpt(symptom2)[{'Disease': 'No'}] = [0.7, 0.3]   # два значения: для Symptom2=0 и Symptom2=1 соответственно\n",
    "medicine_bn.cpt(symptom2)[{'Disease': 'Yes'}] = [0.1, 0.9]\n",
    "\n",
    "medicine_bn.cpt(symptom2)"
   ]
  },
  {
   "cell_type": "markdown",
   "metadata": {},
   "source": [
    "На этом спецификация сети завершена. Обратите внимание, что мы нигде не задали полезности исходов и \"независимую\" переменную, соответсвующую принимаемому решению (лечить или не лечить). Их просто нельзя представить с помощью формализма байесовских сетей (в отличие от диаграмм влияния). "
   ]
  },
  {
   "cell_type": "markdown",
   "metadata": {},
   "source": [
    "# Запросы\n",
    "\n",
    "Построенная модель может быть использована для ответа на различные вопросы.\n",
    "\n",
    "Например, можно оценить вероятность заболевания при наличии тех или иных симптомов:"
   ]
  },
  {
   "cell_type": "code",
   "execution_count": 15,
   "metadata": {},
   "outputs": [
    {
     "data": {
      "text/html": [
       "<table style=\"border:1px solid black;\">\n",
       "<tr style='border:1px solid black;color:black;background-color:#808080'><th colspan='2'><center>Disease</center></th></tr>\n",
       "<tr><th style='border:1px solid black;border-bottom-style: double;color:black;background-color:#BBBBBB'><center>No</center></th><th style='border:1px solid black;border-bottom-style: double;color:black;background-color:#BBBBBB'><center>Yes</center></th></tr>\n",
       "<tr><td style='color:black;background-color:#80fd64;text-align:right;'>0.9900</td><td style='color:black;background-color:#fd8064;text-align:right;'>0.0100</td></tr>\n",
       "</table>"
      ],
      "text/plain": [
       "(gum::Potential<double>@0x23ae59e0a00) <Disease:No> :: 0.99 /<Disease:Yes> :: 0.01"
      ]
     },
     "execution_count": 15,
     "metadata": {},
     "output_type": "execute_result"
    }
   ],
   "source": [
    "# Создадим экземпляр \"машины вывода\".\n",
    "# Здесь VariableElimination - это один из распространенных алгоритмов\n",
    "# точного вывода на БС\n",
    "ie=gum.VariableElimination(medicine_bn)\n",
    "\n",
    "# Рассчет всех апостериорных вероятностей\n",
    "ie.makeInference()\n",
    "\n",
    "# Апостериорная вероятность того, что у пациента есть заболевание\n",
    "ie.posterior('Disease')"
   ]
  },
  {
   "cell_type": "markdown",
   "metadata": {},
   "source": [
    "Очевидно, в данном случае апостериорная вероятность совпадает с априорной (мы не сообщили модели никаких новых данных по сравнению с теми, на которых основывается априорная вероятность)."
   ]
  },
  {
   "cell_type": "code",
   "execution_count": 16,
   "metadata": {},
   "outputs": [
    {
     "data": {
      "text/html": [
       "<table style=\"border:1px solid black;\">\n",
       "<tr style='border:1px solid black;color:black;background-color:#808080'><th colspan='2'><center>Disease</center></th></tr>\n",
       "<tr><th style='border:1px solid black;border-bottom-style: double;color:black;background-color:#BBBBBB'><center>No</center></th><th style='border:1px solid black;border-bottom-style: double;color:black;background-color:#BBBBBB'><center>Yes</center></th></tr>\n",
       "<tr><td style='color:black;background-color:#b4c964;text-align:right;'>0.5858</td><td style='color:black;background-color:#c9b464;text-align:right;'>0.4142</td></tr>\n",
       "</table>"
      ],
      "text/plain": [
       "(gum::Potential<double>@0x23ae59e0980) <Disease:No> :: 0.585799 /<Disease:Yes> :: 0.414201"
      ]
     },
     "execution_count": 16,
     "metadata": {},
     "output_type": "execute_result"
    }
   ],
   "source": [
    "# В данном случае, это делать не обязательно, однако, \n",
    "# в общем случае, перед каждым запросом следует очистить ранее установленные\n",
    "# свидетельства\n",
    "ie.eraseAllEvidence()\n",
    "# Пусть известно, что у пациента присутствует симптом 1 (про симптом 2 ничего не известно)\n",
    "ie.setEvidence({'Symptom1': 1})\n",
    "# Апостериорная вероятность того, что у пациента есть заболевание\n",
    "ie.posterior('Disease')"
   ]
  },
  {
   "cell_type": "markdown",
   "metadata": {},
   "source": [
    "Наличие информации об имеющемся симптоме существенно увеличивает вероятность того, что у пациента присутствует заболевание. А что если наблюдаются оба симптома?"
   ]
  },
  {
   "cell_type": "code",
   "execution_count": 17,
   "metadata": {},
   "outputs": [
    {
     "data": {
      "text/html": [
       "<table style=\"border:1px solid black;\">\n",
       "<tr style='border:1px solid black;color:black;background-color:#808080'><th colspan='2'><center>Disease</center></th></tr>\n",
       "<tr><th style='border:1px solid black;border-bottom-style: double;color:black;background-color:#BBBBBB'><center>No</center></th><th style='border:1px solid black;border-bottom-style: double;color:black;background-color:#BBBBBB'><center>Yes</center></th></tr>\n",
       "<tr><td style='color:black;background-color:#d5a864;text-align:right;'>0.3204</td><td style='color:black;background-color:#a8d564;text-align:right;'>0.6796</td></tr>\n",
       "</table>"
      ],
      "text/plain": [
       "(gum::Potential<double>@0x23ae59e0a20) <Disease:No> :: 0.320388 /<Disease:Yes> :: 0.679612"
      ]
     },
     "execution_count": 17,
     "metadata": {},
     "output_type": "execute_result"
    }
   ],
   "source": [
    "ie.eraseAllEvidence()\n",
    "# Пусть известно, что у пациента присутствует симптом 1 (про симптом 2 ничего не известно)\n",
    "ie.setEvidence({'Symptom1': 1,\n",
    "                'Symptom2': 1})\n",
    "# Апостериорная вероятность того, что у пациента есть заболевание\n",
    "ie.posterior('Disease')"
   ]
  },
  {
   "cell_type": "markdown",
   "metadata": {},
   "source": [
    "Как и следовало ожидать, вероятность еще выше. Впрочем, она достаточно далека от 1. Видимо, в силу того, что данные симптомы достаточно часто проявляются и без данного заболевания."
   ]
  },
  {
   "cell_type": "markdown",
   "metadata": {},
   "source": [
    "# Принятие решения на основе байесовской сети\n",
    "\n",
    "Простейшим способом принятия решения с испольованием байесовской сети является перебор возможных управлений и оценка ожидаемой полезности для каждого из управлений. А байесовская сеть может использоваться для вычисления вероятностей событий, входящих в оценку полезности. Матрица полезности для данной задачи выглядит следующим образом:\n",
    "\n",
    "| Болезнь/Disease | Лечить?  |  Эффект  |\n",
    "|---------|----------|----------|\n",
    "|  Да     |  Да      |   -1     |\n",
    "|  Да     |  Нет     |   -40    |\n",
    "|  Нет    |  Да      |   -10    |\n",
    "|  Нет    |  Нет     |    0     |\n",
    "\n",
    "То есть, полезность (эффект) определяется состоянием пациента (болен или нет - переменная Disease) и решением, которое мы принимаем (лечить или нет). Ожидаемая полезность решения определяется как математическое ожидание *Эффекта* при данном решении:\n",
    "\n",
    "$$\n",
    "EU(Treat | E) = \\sum_{d \\in Disease}[p(d|E)*Effect(d, Treat)]\n",
    "$$\n",
    "\n",
    "Здесь $E$ - свидетельства, то, что известно в момент принятия решения.\n",
    "\n",
    "В свою очередь, оптимальным решением является такое, которое максимизирует ожидаемую полезность:\n",
    "\n",
    "$$\n",
    "best = \\arg\\max_{t \\in Treat} EU(t | E).\n",
    "$$\n",
    "\n",
    "Найдем, например, ожидаемую полезность и оптимальное решение для случая, когда нам ничего неизвестно о симптомах пациента:"
   ]
  },
  {
   "cell_type": "code",
   "execution_count": 18,
   "metadata": {},
   "outputs": [
    {
     "name": "stdout",
     "output_type": "stream",
     "text": [
      "EU: [-0.4  -9.91]\n"
     ]
    },
    {
     "data": {
      "text/plain": [
       "(-0.4, 0)"
      ]
     },
     "execution_count": 18,
     "metadata": {},
     "output_type": "execute_result"
    }
   ],
   "source": [
    "import numpy as np\n",
    "\n",
    "def disease_proba(ie, ev):\n",
    "    ie.eraseAllEvidence()\n",
    "    ie.setEvidence(ev)\n",
    "    return ie.posterior('Disease').toarray()\n",
    "\n",
    "# Многомерный массив. Измерения:\n",
    "#   1 - болезнь\n",
    "#   2 - лечение\n",
    "utility = np.array([[  0, -10],    # нет болезни\n",
    "                    [-40,  -1]])   # есть болезнь\n",
    "#                     ^    ^\n",
    "#                     |    есть лечение\n",
    "#                     нет лечения\n",
    "\n",
    "# Вероятность болезни без данных о симптомах\n",
    "disease_p = disease_proba(ie, {})\n",
    "\n",
    "# Ожидаемая стоимость каждого из управлений\n",
    "eu = np.dot(disease_p, utility) \n",
    "print('EU:', eu)\n",
    "\n",
    "# Управление с наибольшей ожидаемой стоимостью\n",
    "(np.max(eu), np.argmax(eu))"
   ]
  },
  {
   "cell_type": "markdown",
   "metadata": {},
   "source": [
    "То есть, если данных о симптомах нет, то лучше не лечить.\n",
    "\n",
    "А если есть данные о том, что у пациента присутствует симптом 1:"
   ]
  },
  {
   "cell_type": "code",
   "execution_count": 19,
   "metadata": {},
   "outputs": [
    {
     "name": "stdout",
     "output_type": "stream",
     "text": [
      "EU: [-16.56804734  -6.27218935]\n"
     ]
    },
    {
     "data": {
      "text/plain": [
       "(-6.272189349112427, 1)"
      ]
     },
     "execution_count": 19,
     "metadata": {},
     "output_type": "execute_result"
    }
   ],
   "source": [
    "# Вероятность болезни без данных о симптомах\n",
    "disease_p = disease_proba(ie, {'Symptom1': 1})\n",
    "\n",
    "# Ожидаемая стоимость каждого из управлений\n",
    "eu = np.dot(disease_p, utility) \n",
    "print('EU:', eu)\n",
    "\n",
    "# Управление с наибольшей ожидаемой стоимостью\n",
    "(np.max(eu), np.argmax(eu))"
   ]
  },
  {
   "cell_type": "markdown",
   "metadata": {},
   "source": [
    "Таким образом, если наблюдается симптом 1, то оптимальным управлением является лечить пациента."
   ]
  },
  {
   "cell_type": "markdown",
   "metadata": {},
   "source": [
    "# Рекомендуемые ссылки:\n",
    "\n",
    "- https://webia.lip6.fr/~phw//aGrUM/docs/last/notebooks/01-tutorial.ipynb.html и другие обучающие материалы по PyAgrum.\n"
   ]
  }
 ],
 "metadata": {
  "kernelspec": {
   "display_name": "Python 3",
   "language": "python",
   "name": "python3"
  },
  "language_info": {
   "codemirror_mode": {
    "name": "ipython",
    "version": 3
   },
   "file_extension": ".py",
   "mimetype": "text/x-python",
   "name": "python",
   "nbconvert_exporter": "python",
   "pygments_lexer": "ipython3",
   "version": "3.7.6"
  }
 },
 "nbformat": 4,
 "nbformat_minor": 4
}
