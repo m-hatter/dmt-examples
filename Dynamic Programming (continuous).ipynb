{
 "cells": [
  {
   "cell_type": "markdown",
   "metadata": {},
   "source": [
    "# Постановка задачи\n",
    "\n",
    "Фермеру принадлежит стадо численностью $k$ голов. В начале каждого года фермер принимает решение, сколько животных продать, а сколько оставить. Доход от продажи одного животного составляет $с$; затраты на его содержание в течение года - $b$; к началу следующего года количество оставленных животных увеличивается в $a$ раз. На каждом этапе можно продавать и оставлять любое число животных в пределах текущего поголовья стада.\n",
    "\n",
    "Фермера интересует получение максимума прибыли за 3-хлетний цикл, т.е. по результатам продажи в начале 4-го года.\n",
    "Присутствует зависимость цены с от количества продаваемых животных, т.е. моделируется нелинейность типа насыщения рынка; также учитывается экстремальный характер (наличие минимума) для зависимости $b(y)$ затрат $b$ на содержание $y$ оставшихся животных.\n",
    "\n",
    "| $a$ | $b(y)$                 | $c(x)$             | K  |\n",
    "|-----|------------------------|--------------------|----|\n",
    "| 2   | $9+(\\frac{y-5}{20})^2$ |  $17-\\ln(6+0.5x)$  | 10 |\n",
    "\n",
    "# Шаг 1\n",
    "\n",
    "Итак, в задаче явным образом задана периодизация процесса принятия решений: есть три точки принятия решений, соответствующих началам 1го, 2го и 3го годов. В начале 4го года все оставшиеся животные продаются.\n",
    "При анализе условия задачи необходимо выделить три составляющие, обязательные при решении задачи методом динамического программирования: выигрыш, управление и состояние.\n",
    "\n",
    "Выигрыш в данной задаче соответствует доходу, получаемому от продажи животных, за вычетом\n",
    "расходов по содержанию оставшихся.\n",
    "\n",
    "Управление – это решение о том, сколько животных в данной точке принятия решение следует\n",
    "продать. Поскольку все стадо в каждой точке принятия решения делится на две\n",
    "непересекающиеся группы – продаваемые животные и остающиеся животные – вводить\n",
    "отдельную переменную управления для остающихся животных нет смысла. Обозначим\n",
    "единственную переменную, задающую управление, через x. Для различения управлений на\n",
    "разных этапах будем использовать нижнюю индексацию, например, $x_1$ соответствует управлению\n",
    "на первом этапе, то есть, количеству коров, которые фермер продает в начале первого года.\n",
    "\n",
    "Состояние. В каждой точке принятия решения управляемая система описывается одним\n",
    "параметром – количеством животных, это и будет состояние системы k. По аналогии с\n",
    "управлением, для различения состояний, используемых на разных этапах, будем использовать\n",
    "нижнюю индексацию: $k_1$, …, $k_4$.\n",
    "\n",
    "# Шаг 2: Записать выигрыш на i-том этапе в зависимости от состояния и управления\n",
    "\n",
    "Для лучшего понимания проблемной области построим графики заданных в условии задачи\n",
    "зависимостей дохода от продажи животного и расходов на содержание в зависимости от\n",
    "количества. Зададим соответствующие функции:\n"
   ]
  },
  {
   "cell_type": "code",
   "execution_count": 2,
   "metadata": {},
   "outputs": [],
   "source": [
    "import numpy as np\n",
    "\n",
    "# Доход от продажи одного животного в зависимости от количества выставленных на продажу\n",
    "def c(x):\n",
    "    return 17 - np.log(6 + 0.5*x);\n",
    "\n",
    "# Расходы на содержание одного животного в зависимости от размера стада\n",
    "def b(y):\n",
    "    return 9 + np.power(1/20*(y - 5), 2);\n"
   ]
  },
  {
   "cell_type": "markdown",
   "metadata": {},
   "source": [
    "Мы используем функции библиотеки Numpy `numpy.log()` и `numpy.power()`, обеспечивающие\n",
    "возможность т.н. векторизованного применения функции, то есть применения ее к \n",
    "каждому значению из массива (`numpy.array`). Это позволяет передавать в созданные\n",
    "функции как одно число (значение аргумента), так и целый вектор значений. Во втором случае\n",
    "функция будет вычислена для каждого значения, содержащегося в векторе. Этой возможностью\n",
    "удобно будет пользоваться, например, при построении графиков."
   ]
  },
  {
   "cell_type": "code",
   "execution_count": 6,
   "metadata": {},
   "outputs": [
    {
     "data": {
      "text/plain": [
       "14.60210472720163"
      ]
     },
     "execution_count": 6,
     "metadata": {},
     "output_type": "execute_result"
    }
   ],
   "source": [
    "# Пример вычисления дохода от продажи одного животного, если на продажу выставлено 10:\n",
    "c(10)"
   ]
  },
  {
   "cell_type": "code",
   "execution_count": 12,
   "metadata": {},
   "outputs": [
    {
     "data": {
      "text/plain": [
       "array([15.20824053, 15.12819782, 15.05408985, 14.98509698, 14.92055846,\n",
       "       14.85993384, 14.80277542, 14.7487082 , 14.69741491, 14.64862474,\n",
       "       14.60210473])"
      ]
     },
     "execution_count": 12,
     "metadata": {},
     "output_type": "execute_result"
    }
   ],
   "source": [
    "# Пример вычисления дохода от продажи одного животного, если на продажу выставлено от \n",
    "# 0 до 10 животных:\n",
    "c(np.array(range(11)))"
   ]
  },
  {
   "cell_type": "code",
   "execution_count": 6,
   "metadata": {},
   "outputs": [
    {
     "data": {
      "text/plain": [
       "<matplotlib.axes._subplots.AxesSubplot at 0x9019cd0>"
      ]
     },
     "execution_count": 6,
     "metadata": {},
     "output_type": "execute_result"
    },
    {
     "data": {
      "image/png": "[encoded data removed]",
      "text/plain": [
       "<Figure size 432x288 with 1 Axes>"
      ]
     },
     "metadata": {
      "needs_background": "light"
     },
     "output_type": "display_data"
    }
   ],
   "source": [
    "# Построение графиков\n",
    "\n",
    "import seaborn as sns              # высокоуровневая библиотека для построения графиков\n",
    "import matplotlib.pyplot as plt    # pyplot используется для настройки внешнего вида графиков\n",
    "\n",
    "# Чтобы графики сразу отображались в блокноте\n",
    "%matplotlib inline\n",
    "\n",
    "# Зададим массив точек (в данном случае, это размеры стада), для которых\n",
    "# будем строить график\n",
    "x = np.array(range(0, 50))\n",
    "# Вычислим значение функции для каждой из точек (воспользовавшись тем \n",
    "# фактом, что функция `c(x)` векторизована)\n",
    "y = c(x)\n",
    "sns.lineplot(x, y)\n"
   ]
  },
  {
   "cell_type": "code",
   "execution_count": 10,
   "metadata": {},
   "outputs": [
    {
     "data": {
      "text/plain": [
       "<matplotlib.axes._subplots.AxesSubplot at 0x13678f0>"
      ]
     },
     "execution_count": 10,
     "metadata": {},
     "output_type": "execute_result"
    },
    {
     "data": {
      "image/png": "[encoded data removed]",
      "text/plain": [
       "<Figure size 432x288 with 1 Axes>"
      ]
     },
     "metadata": {
      "needs_background": "light"
     },
     "output_type": "display_data"
    }
   ],
   "source": [
    "\n",
    "# Отобразим на графике одновременно затраты на содержание животного и цену его\n",
    "# продажи\n",
    "\n",
    "# При работе с seaborn это проще всего сделать, подготовив специальную структуру вида:\n",
    "#  x | function | function\n",
    "# ----------------------\n",
    "#  1 |  b(x)   |   ???\n",
    "#  1 |  c(x)   |   ???\n",
    "#  2 |  b(x)   |   ???\n",
    "#  2 |  c(x)   |   ???\n",
    "\n",
    "# Для этого просто создадим `DataFrame` \n",
    "\n",
    "import pandas as pd\n",
    "\n",
    "x = np.array(range(0, 50))\n",
    "plot_df = pd.DataFrame({'x': x,\n",
    "                        'c(x)': c(x),\n",
    "                        'b(x)': b(x)})\n",
    "# ... и преобразуем его в нужный вид функцией `pandas.melt`:\n",
    "melted_plot_df = pd.melt(plot_df, id_vars=['x'], value_vars=['c(x)', 'b(x)'], var_name='function')\n",
    "# ...из такого набора данных `seaborn.lineplot` сам умеет выбирать\n",
    "# данные, относящиеся к одному виду (в данном случае, функции) и \n",
    "# отображать их разным цветом  \n",
    "sns.lineplot(data=melted_plot_df, x='x', y='value', hue='function')\n"
   ]
  },
  {
   "cell_type": "markdown",
   "metadata": {},
   "source": [
    "На рисунке видно, что при повышении размера стада расходы на содержание одного животного\n",
    "становятся слишком большими. В частности, при размере стада около 50 они начинают превышать\n",
    "возможный доход от продаж животных, даже «одиночных».\n",
    "Перейдем собственно к построению функции выигрыша. На предыдущем шаге мы определили,\n",
    "что выигрыш в данной задаче определяется доходом, получаемым от реализации животных за\n",
    "вычетом стоимости содержания оставшихся. Функции для определения дохода от продажи\n",
    "одного животного и расходов на его содержание заданы в условии, таким\n",
    "образом, выигрыш на i-том шаге определяется по следующей формуле:\n",
    "\n",
    "$$\n",
    "w_i(k_i, x_i) = x_i\\left(17 - \\ln(6 + 0.5x_i)\\right) \n",
    "- \\frac{(k_i-x_i) + 2(k_i - x_i)}{2} \\left( 9 + \\left(\\frac{(k_i - x_i) - 5}{20}\\right)^2  \\right)\n",
    "$$\n",
    "\n",
    "В этой формуле при вычислении затрат на содержание берется среднее количество коров за год, с\n",
    "учетом того, что их количество увеличивается в соответствии с законом, заданным в условии.\n",
    "При определении соответствующей функции используем определенные ранее `b(x)` и `c(y)`:\n"
   ]
  },
  {
   "cell_type": "code",
   "execution_count": 21,
   "metadata": {},
   "outputs": [
    {
     "name": "stdout",
     "output_type": "stream",
     "text": [
      "-38.88680217690159\n",
      "[-67.5        -38.88680218 -10.4368203   17.88779094  46.12223383]\n"
     ]
    }
   ],
   "source": [
    "# Функция также является векторизованной относительно `x` (но не относительно `k`),\n",
    "# то есть допускает как вызов с одним значением `x`, так и с целым набором.\n",
    "# Во втором случае выигрыш будет вычислен для каждого элемента набора.\n",
    "def w(k, x):\n",
    "    return x * c(x) - 1.5 * (k - x) * b(k - x);\n",
    "\n",
    "# Пример использования:\n",
    "print(w(5, 1))                     # Вычисление функции выигрыша для одного управления\n",
    "print(w(5, np.array(range(5))))    # Вычисление функции выигрыша сразу для нескольких управлений"
   ]
  },
  {
   "cell_type": "markdown",
   "metadata": {},
   "source": [
    "# Шаг 3: Записать для i-того шага функцию, выражающую изменение состояния системы под влиянием управления\n",
    "\n",
    "На этом шаге нам нужно построить функцию, с помощью которой можно вычислить, каким будет\n",
    "состояние системы к следующей точке принятия решения ($i$+1), если фермер в $i$-той точке\n",
    "принятия решения выберет управление $x_i$. Допустим, к моменту принятия решения у фермера\n",
    "было $k_i$ животных. После продажи $x_i$ животных остается $(k_i – x_i)$, а за год, в соответствии с условием\n",
    "задачи, количество оставленных животных увеличивается в $a$ раз. Значит, через год, к следующей\n",
    "точке принятия решения, количество животных будет определяться по следующей формуле:\n",
    "\n",
    "$$\n",
    "\\phi(k_i, x_i) = a(k_i − x_).\n",
    "$$\n",
    "\n",
    "Эту функцию также имеет смысл определить в Python (вспомнив, что по условию задачи $a = 2$):\n"
   ]
  },
  {
   "cell_type": "code",
   "execution_count": 54,
   "metadata": {},
   "outputs": [],
   "source": [
    "def phi(k, x):\n",
    "    return 2*(k - x)\n"
   ]
  },
  {
   "cell_type": "markdown",
   "metadata": {},
   "source": [
    "# Шаг 4: Записать основное функциональное уравнение ДП\n",
    "\n",
    "Собираем воедино все, что было рассмотрено ранее:\n",
    "\n",
    "$$\n",
    "W_i(k_i) = \\max_{x_i}\n",
    "\\left\\{\n",
    "x_i\\left(17 - \\ln(6 + 0.5x_i)\\right) \n",
    "- \\frac{(k_i-x_i) + 2(k_i - x_i)}{2} \\left( 9 + \\left(\\frac{(k_i - x_i) - 5}{20}\\right)^2  \\right)\n",
    "+ W_{i+1}(2(k_i − w_i))\n",
    "\\right\\}\n",
    "$$\n",
    "\n",
    "Перед тем, как написать соответствующую функцию в Python, необходимо определиться со\n",
    "стратегией вычислений. Как несложно заметить, функция условного оптимального выигрыша\n",
    "имеет рекурсивную природу, которую можно либо отразить в организации вычислений, либо нет.\n",
    "Мы пойдем по итеративному пути, рассчитывая условный оптимальный выигрыш от последнего\n",
    "шага к первому, а значит, к моменту вычисления $W_i$ $W_{i+1}$ уже будет вычислено. А если будет\n",
    "вычислено, значит, результаты этих вычислений необходимо: а) как-то сохранить; б) как-то\n",
    "извлечь. Простейшим способом хранения результатов вычисления определенного этапа будут два\n",
    "вектора: `k_i` и `W_i`. В первый вектор поместим различные значения состояний (размеры стада),\n",
    "для которых вычислены условные оптимальные выигрыши, а во второй – соответствующие\n",
    "значения условных оптимальных выигрышей. Де факто, получили функцию, заданную таблично –\n",
    "значению размера стада `k_i(q)` соответствует условный оптимальный выигрыш `W_i(q)`. Добавим\n",
    "к этим двум векторам еще один – `x_i`, имеющий ту же длину, и хранящий управление,\n",
    "позволяющее получить условный оптимальный выигрыш (условное оптимальное управление).\n",
    "Например, если для 4-го этапа `k_4`, `W_4` и `x_4` уже рассчитаны и известно, что к 4му этапу\n",
    "останется 12 коров, то для нахождения условного оптимального выигрыша необходимо\n",
    "выполнить следующие действия:\n"
   ]
  },
  {
   "cell_type": "code",
   "execution_count": 26,
   "metadata": {},
   "outputs": [
    {
     "data": {
      "text/plain": [
       "30"
      ]
     },
     "execution_count": 26,
     "metadata": {},
     "output_type": "execute_result"
    }
   ],
   "source": [
    "# Например, для 4-го шага известны значения функции Беллмана для следующих состояний\n",
    "k_4 = np.array([0, 5, 10, 15])\n",
    "W_4 = np.array([10, 20, 30, 40])\n",
    "\n",
    "# Ситуация осложняется тем, что непосредственно 12 среди известных значений функции Беллмана нет\n",
    "# (это естественная ситуация при дискретизации непрерывного отрезка). Таким образом, нам необходимо\n",
    "# либо найти в k_4 либо само значение, либо близкое к нему (если искомого нет). Логика того, \n",
    "# какое именно \"близкое\" использовать (больше или меньше искомого) зависит от задачи.\n",
    "# В данном случае, имеет смысл использовать меньшее.\n",
    "idx = np.searchsorted(k_4, 12)\n",
    "if idx >= len(k_4) or k_4[idx] > 12:\n",
    "    idx -= 1\n",
    "W_4[idx]\n"
   ]
  },
  {
   "cell_type": "markdown",
   "metadata": {},
   "source": [
    "Удобно, что функция `numpy.searchsorted` поддерживает векторный аргумент, то есть можно весьма\n",
    "\"лаконично\" найти значения для целого набора остатков:\n"
   ]
  },
  {
   "cell_type": "code",
   "execution_count": 40,
   "metadata": {},
   "outputs": [
    {
     "data": {
      "text/plain": [
       "array([10, 10, 10, 10, 10, 20, 20, 40])"
      ]
     },
     "execution_count": 40,
     "metadata": {},
     "output_type": "execute_result"
    }
   ],
   "source": [
    "# Массив тех остатков, которые необходимо обработать\n",
    "k = np.array([0, 1, 2, 3, 4, 5, 6, 77])\n",
    "# Найдем позицию каждого из этих остатков в массиве k_4\n",
    "idx = np.searchsorted(k_4, k)\n",
    "# Скорректируем значения.\n",
    "idx[(idx >= len(k_4)) | (k_4[np.minimum(idx, len(k_4) - 1)] > k)] -= 1\n",
    "W_4[idx]  "
   ]
  },
  {
   "cell_type": "code",
   "execution_count": 44,
   "metadata": {},
   "outputs": [
    {
     "data": {
      "text/plain": [
       "array([10, 10, 10, 10, 10, 20, 20, 40])"
      ]
     },
     "execution_count": 44,
     "metadata": {},
     "output_type": "execute_result"
    }
   ],
   "source": [
    "# Аналогичной коррекции можно было бы добиться с помощью явного цикла\n",
    "# хотя это и не очень \"идеоматичный\" путь применения трансформации к\n",
    "# `numpy.array`:\n",
    "\n",
    "k = np.array([0, 1, 2, 3, 4, 5, 6, 77])\n",
    "idx = np.searchsorted(k_4, k)\n",
    "for i in range(len(idx)):\n",
    "    if idx[i] >= len(k_4) or k_4[idx[i]] > k[i]:\n",
    "        idx[i] -= 1\n",
    "\n",
    "W_4[idx] \n"
   ]
  },
  {
   "cell_type": "markdown",
   "metadata": {},
   "source": [
    "Определим функцию `W(k, ks, Ws)`, которая будет при заданном `k` перебирать все возможные управления (от 0 до `k`), и искать то из них, которое дает наибольший выигрыш. Параметры `ks` и `Ws` вместе представляют собой таблично заданную функцию условного оптимального выигрыша следующего этапа. То есть, когда мы будем вычислять условные оптимальные выигрыши для 3го этапа, то подставим рассчитанные предварительно векторы `x_4` и `W_4`, содержащие данные четвертого этапа, при расчете 2го этапа, подставим `x_3` и `W_3` и т.д.\n"
   ]
  },
  {
   "cell_type": "code",
   "execution_count": 67,
   "metadata": {},
   "outputs": [],
   "source": [
    "# Вычисление условного оптимального выигрыша при заданном остатке k.\n",
    "# ks, Ws задают табличную функцию оптимальных условных выигрышей для следующего\n",
    "# этапа.\n",
    "# Возвращает условный оптимальный выигрыш (v) и условное оптимальное управление (x).\n",
    "# Внимание! Функция не векторизована относительно k!\n",
    "def W(k, ks, Ws):\n",
    "    xs = np.arange(k+1)\n",
    "    next_k = phi(k, xs)\n",
    "    vals = w(k,xs) + Ws[np.searchsorted(ks, k)]\n",
    "    besti = np.argmax(vals)\n",
    "    return (vals[besti], besti)\n"
   ]
  },
  {
   "cell_type": "markdown",
   "metadata": {},
   "source": [
    "# Шаг 5: Найти функцию условного оптимального выигрыша для последнего этапа\n",
    "\n",
    "В примерах кода, рассмотренных на предыдущем шаге, мы исходили из того, что все `k_i`, `x_i` и `W_i` уже заполнены. Сейчас же остановимся на том, как именно (и в какой последовательности) они вычисляются. Последним этапом принятия решения является третий. Традиционно, для последнего этапа функциональное уравнение ДП модифицируется исключением слагаемого `Wi+1`, снимающего рекуррентный характер этого уравнения. Раз уравнение модифицируется, то для последнего этапа придется определить отдельную функцию вычисления условного оптимального выигрыша. Действительно, функция `W(k, ks, Ws)`, которую мы определили на шаге 4, принимает в качестве параметра (и использует) таблицы значений, относящихся к следующему этапу, но для третьего этапа никакого следующего нет. Однако чтобы не вводить еще одну функцию, очень похожую на уже определенную `W(k, ks, Ws)`, можно попытаться искусственно сформировать эти таблицы. В условии задачи сказано, что через год после последнего этапа принятия решения все стадо должно быть продано. Значит, можно ввести некоторую «фиктивную» четвертую точку принятия решения, на которой собственно решения-то и не принимается – просто выполняется требование о продаже всего стада, и исходя из этого заполнить значения условных оптимальных выигрышей и управлений:\n"
   ]
  },
  {
   "cell_type": "code",
   "execution_count": 89,
   "metadata": {},
   "outputs": [],
   "source": [
    "k_4 = np.arange(10*(2**3)+1)   # к началу 4го года исходное количество коров\n",
    "                             # могло удвоиться (a = 2) трижды\n",
    "W_4 = np.zeros(len(k_4))\n",
    "for i in range(len(k_4)):\n",
    "    W_4[i] = w(k_4[i], k_4[i])    # вычисляем выигрыш от продажи всех животных\n",
    "\n",
    "   "
   ]
  },
  {
   "cell_type": "markdown",
   "metadata": {},
   "source": [
    "Для последнего этапа, на котором действительно происходит принятие решений, то есть, третьего, можно построить два наглядных изображения. Первое – это семейство графиков, на которых показано как зависит условный оптимальный выигрыш от управления для различных размеров стада (имеет смысл взять три-четыре различных размера). Второе график зависимости условного оптимального выигрыша от размера стада. Построим их.\n",
    "Для построения семейства графиков нам потребуется функция `Wx`, в чем-то похожая на уже написанную `W`, но не осуществляющая максимизацию. В принципе, иметь две столь схожих функции избыточно, вы можете исправить этот недостаток, а я продолжу:\n"
   ]
  },
  {
   "cell_type": "code",
   "execution_count": 87,
   "metadata": {},
   "outputs": [],
   "source": [
    "# Вычисление выигрыша при заданном остатке k и заданных\n",
    "# управлениях xs (векторизована относительно управления).\n",
    "# ks, Ws задают табличную функцию оптимальных условных выигрышей для следующего\n",
    "# этапа.\n",
    "# Возвращает выигрыш (на этом и последующих шагах) для каждого из заданных управлений.\n",
    "\n",
    "def Wx(k, xs, ks, Ws):\n",
    "    next_k = phi(k, xs)\n",
    "    return w(k,xs) + Ws[np.searchsorted(ks, next_k)]\n",
    "\n",
    "#xs = np.arange(k+1)\n",
    "\n"
   ]
  },
  {
   "cell_type": "markdown",
   "metadata": {},
   "source": [
    "С использованием этой функции построим два графика: для максимально возможного остатка и для среднего. При определении максимально возможного остатка исходим из того, что до этого ни одной коровы продано не было, а значит, к 3й точке принятия решений прошло два года, за каждый из которых размер стада удвоился ($a = 2$). Таким образом, максимальный остаток для третьего этапа равен $10*2*2 = 40$."
   ]
  },
  {
   "cell_type": "code",
   "execution_count": 90,
   "metadata": {},
   "outputs": [
    {
     "data": {
      "text/plain": [
       "<matplotlib.axes._subplots.AxesSubplot at 0x17eb2f0>"
      ]
     },
     "execution_count": 90,
     "metadata": {},
     "output_type": "execute_result"
    },
    {
     "data": {
      "image/png": "[encoded data removed]",
      "text/plain": [
       "<Figure size 432x288 with 1 Axes>"
      ]
     },
     "metadata": {
      "needs_background": "light"
     },
     "output_type": "display_data"
    }
   ],
   "source": [
    "k3_max = 10*(2**2);\n",
    "x3_max = np.arange(k3_max+1)\n",
    "w3_max = Wx(k3_max, x3_max, k_4, W_4)\n",
    "k3_med = k3_max / 2\n",
    "x3_med = np.arange(k3_med+1)\n",
    "w3_med = Wx(k3_med, x3_med, k_4, W_4)\n",
    "\n",
    "melted_plot_df = pd.concat([pd.melt(pd.DataFrame({'x': x3_max,\n",
    "                                                  'k3max': w3_max}), \n",
    "                                                  id_vars=['x'], \n",
    "                                                  value_vars=['k3max']),\n",
    "                            pd.melt(pd.DataFrame({'x': x3_med,\n",
    "                                                  'k3med': w3_med}), \n",
    "                                                  id_vars=['x'], \n",
    "                                                  value_vars=['k3med'])], ignore_index=True)\n",
    "sns.lineplot(data=melted_plot_df, x='x', y='value', hue='variable')\n"
   ]
  }
 ],
 "metadata": {
  "kernelspec": {
   "display_name": "Python 3",
   "language": "python",
   "name": "python3"
  },
  "language_info": {
   "codemirror_mode": {
    "name": "ipython",
    "version": 3
   },
   "file_extension": ".py",
   "mimetype": "text/x-python",
   "name": "python",
   "nbconvert_exporter": "python",
   "pygments_lexer": "ipython3",
   "version": "3.7.6"
  }
 },
 "nbformat": 4,
 "nbformat_minor": 2
}
